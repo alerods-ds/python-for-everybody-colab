{
  "nbformat": 4,
  "nbformat_minor": 0,
  "metadata": {
    "colab": {
      "provenance": [],
      "authorship_tag": "ABX9TyMuTjpxxKFM9KjB5tiYOIMw",
      "include_colab_link": true
    },
    "kernelspec": {
      "name": "python3",
      "display_name": "Python 3"
    },
    "language_info": {
      "name": "python"
    }
  },
  "cells": [
    {
      "cell_type": "markdown",
      "metadata": {
        "id": "view-in-github",
        "colab_type": "text"
      },
      "source": [
        "<a href=\"https://colab.research.google.com/github/alerods-ds/python-for-everybody-colab/blob/main/notebooks/chapter_05.ipynb\" target=\"_parent\"><img src=\"https://colab.research.google.com/assets/colab-badge.svg\" alt=\"Open In Colab\"/></a>"
      ]
    },
    {
      "cell_type": "markdown",
      "source": [
        "# 📘 Chapter 5: Iteration - Exercises\n",
        "\n",
        "This notebook contains the solutions to the exercises from Chapter 4 of *Python for Everybody* by Charles Severance."
      ],
      "metadata": {
        "id": "GMp1oZ_W9OFT"
      }
    },
    {
      "cell_type": "markdown",
      "source": [
        "## 🧠 Exercise 1\n",
        "### Write a program which repeatedly reads numbers until the user enters “done”. Once “done” is entered, print out the total, count, and average of the numbers. If the user enters anything other than a number, detect their mistake using `try` and `except` and print an error message and skip to the next number.\n",
        "\n",
        "```\n",
        "Enter a number: 4\n",
        "Enter a number: 5\n",
        "Enter a number: bad data\n",
        "Invalid input\n",
        "Enter a number: 7\n",
        "Enter a number: done\n",
        "16 3 5.333333333333333\n",
        "```\n",
        "\n",
        "✅ Answer:"
      ],
      "metadata": {
        "id": "mRb_-65J-e7n"
      }
    },
    {
      "cell_type": "code",
      "source": [
        "total = 0\n",
        "count = 0\n",
        "while True:\n",
        "    try:\n",
        "        user_number = input('Enter a number: ')\n",
        "        if user_number == 'done':\n",
        "            break\n",
        "        else:\n",
        "            number = float(user_number)\n",
        "            total = total + number\n",
        "            count = count + 1\n",
        "    except:\n",
        "        print('Invalid input')\n",
        "print(total)\n",
        "print(count)\n",
        "print(total/count)"
      ],
      "metadata": {
        "colab": {
          "base_uri": "https://localhost:8080/"
        },
        "id": "lsBXXhPu-0Fx",
        "outputId": "dc9e96ba-f8b3-4d6c-bad0-dca4641d75d0"
      },
      "execution_count": null,
      "outputs": [
        {
          "output_type": "stream",
          "name": "stdout",
          "text": [
            "Enter a number: 4\n",
            "Enter a number: 5\n",
            "Enter a number: bad data\n",
            "Invalid input\n",
            "Enter a number: 7\n",
            "Enter a number: done\n",
            "16.0\n",
            "3\n",
            "5.333333333333333\n"
          ]
        }
      ]
    },
    {
      "cell_type": "markdown",
      "source": [
        "💡 Explanation:\n",
        "\n",
        "This program demonstrates how to repeatedly accept user input, handle exceptions, and compute basic statistics. It uses a `while True` loop to allow repeated input and exits only when the user types `\"done\"`. Inside the loop, it tries to convert the input to a float — if that fails, the `except` block prints an error message without stopping the program. If the input is valid, it updates the running total and count. At the end, it prints the total sum, number of valid entries, and their average."
      ],
      "metadata": {
        "id": "wFLGWDXIAZIW"
      }
    },
    {
      "cell_type": "markdown",
      "source": [
        "## 🧠 Exercise 2\n",
        "### Write another program that prompts for a list of numbers as above and at the end prints out both the maximum and minimum of the numbers instead of the average.\n",
        "\n",
        "✅ Answer:"
      ],
      "metadata": {
        "id": "TmxZ7lDNGvKH"
      }
    },
    {
      "cell_type": "code",
      "source": [
        "largest = None\n",
        "smallest = None\n",
        "while True:\n",
        "    try:\n",
        "        user_number = input('Enter a number: ')\n",
        "        if user_number == 'done':\n",
        "            break\n",
        "        else:\n",
        "            number = float(user_number)\n",
        "            if largest is None or number > largest:\n",
        "                largest = number\n",
        "            if smallest is None or number < smallest:\n",
        "                smallest = number\n",
        "    except:\n",
        "        print('Invalid input')\n",
        "print(largest)\n",
        "print(smallest)"
      ],
      "metadata": {
        "colab": {
          "base_uri": "https://localhost:8080/"
        },
        "id": "f58UtwrpHDho",
        "outputId": "b983c156-3dce-41fa-8f82-c8fef9554cd9"
      },
      "execution_count": 1,
      "outputs": [
        {
          "output_type": "stream",
          "name": "stdout",
          "text": [
            "Enter a number: 4\n",
            "Enter a number: -6\n",
            "Enter a number: 9\n",
            "Enter a number: 5\n",
            "Enter a number: bad input\n",
            "Invalid input\n",
            "Enter a number: 0\n",
            "Enter a number: done\n",
            "9.0\n",
            "-6.0\n"
          ]
        }
      ]
    },
    {
      "cell_type": "markdown",
      "source": [
        "💡 Explanation:\n",
        "\n",
        "This program collects numerical input from the user and determines the maximum and minimum values entered. It initializes two variables, `largest` and `smallest`, to `None`, and updates them as it processes each valid number. The use of `None` allows the program to handle the first input correctly. Invalid inputs are caught with a `try`/`except` block, and the loop continues until the user types `\"done\"`. At the end, it prints the largest and smallest numbers entered."
      ],
      "metadata": {
        "id": "x1-bCYQcIFj0"
      }
    },
    {
      "cell_type": "markdown",
      "source": [
        "# 📚 Summary – What I Learned from These Exercises\n",
        "\n",
        "In this chapter, I practiced using `while` loops to create programs that handle repeated user input. I also explored how to keep track of values across iterations using variables, and how to properly initialize and update them inside a loop.\n",
        "\n",
        "These exercises helped reinforce the importance of guarding against invalid input, the usefulness of sentinel values (`None`), and how loops and conditional logic work together to solve real-world problems like tracking aggregates or extrema in a stream of data.\n"
      ],
      "metadata": {
        "id": "Xg78aIQpIG4D"
      }
    }
  ]
}