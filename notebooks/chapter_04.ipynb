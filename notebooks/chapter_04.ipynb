{
  "nbformat": 4,
  "nbformat_minor": 0,
  "metadata": {
    "colab": {
      "provenance": [],
      "authorship_tag": "ABX9TyNbCMRbkoIZ5OqMvod8UqYr",
      "include_colab_link": true
    },
    "kernelspec": {
      "name": "python3",
      "display_name": "Python 3"
    },
    "language_info": {
      "name": "python"
    }
  },
  "cells": [
    {
      "cell_type": "markdown",
      "metadata": {
        "id": "view-in-github",
        "colab_type": "text"
      },
      "source": [
        "<a href=\"https://colab.research.google.com/github/alerods-ds/python-for-everybody-colab/blob/main/notebooks/chapter_04.ipynb\" target=\"_parent\"><img src=\"https://colab.research.google.com/assets/colab-badge.svg\" alt=\"Open In Colab\"/></a>"
      ]
    },
    {
      "cell_type": "markdown",
      "source": [
        "# 📘 Chapter 4: Functions - Exercises\n",
        "\n",
        "This notebook contains the solutions to the exercises from Chapter 4 of *Python for Everybody* by Charles Severance."
      ],
      "metadata": {
        "id": "xsDBRxrWbbZX"
      }
    },
    {
      "cell_type": "code",
      "source": [
        "import random"
      ],
      "metadata": {
        "id": "hfRrdLcNcGIe"
      },
      "execution_count": 12,
      "outputs": []
    },
    {
      "cell_type": "markdown",
      "source": [
        "## 🧠 Exercise 1\n",
        "###  Run the program on your system and see what numbers you get. Run the program more than once and see what numbers you get.\n",
        "\n",
        "```\n",
        "for i in range(10):\n",
        "x = random.random()\n",
        "print(x)\n",
        "```\n",
        "\n",
        "✅ Answer:"
      ],
      "metadata": {
        "id": "Rpx1HRV_biZ4"
      }
    },
    {
      "cell_type": "code",
      "source": [
        "for i in range(10):\n",
        "    x = random.random()\n",
        "    print(x)"
      ],
      "metadata": {
        "colab": {
          "base_uri": "https://localhost:8080/"
        },
        "id": "y688hnz_cWDF",
        "outputId": "3d646a4a-f4ee-493e-cadd-e91ef9c7d131"
      },
      "execution_count": 13,
      "outputs": [
        {
          "output_type": "stream",
          "name": "stdout",
          "text": [
            "0.24725386680648298\n",
            "0.8953926645330759\n",
            "0.8615798207394848\n",
            "0.17037635760274805\n",
            "0.7971434999997506\n",
            "0.8604064982523429\n",
            "0.7699070264331526\n",
            "0.7825964807739311\n",
            "0.18845448074485616\n",
            "0.06868819840413198\n"
          ]
        }
      ]
    },
    {
      "cell_type": "markdown",
      "source": [
        "💡 Explanation:\n",
        "\n",
        "The program uses the `random` module to generate random numbers. Specifically, the function `random.random()` returns a random float between 0.0 and 1.0 (including 0.0 but *excluding* 1.0).\n",
        "\n",
        "The `for` loop runs 10 times, so the program prints 10 random floating-point numbers. Each time you run the program, you’ll likely get a different set of numbers because they are randomly generated.\n",
        "\n",
        "This is useful in simulations, games, or anywhere randomness is needed."
      ],
      "metadata": {
        "id": "53XIxZENdYsc"
      }
    },
    {
      "cell_type": "markdown",
      "source": [
        "## 🧠 Exercise 2\n",
        "###  Move the last line of this program to the top, so the function call appears before the definitions. Run the program and see what error message you get.\n",
        "\n",
        "```\n",
        "def print_lyrics():\n",
        "    print(\"I'm a lumberjack, and I'm okay.\")\n",
        "    print('I sleep all night and I work all day.')\n",
        "\n",
        "def repeat_lyrics():\n",
        "    print_lyrics()\n",
        "    print_lyrics()\n",
        "\n",
        "repeat_lyrics()\n",
        "```\n",
        "\n",
        "✅ Answer:"
      ],
      "metadata": {
        "id": "lqp89m0wddaL"
      }
    },
    {
      "cell_type": "code",
      "source": [
        "repeat_lyrics()\n",
        "\n",
        "def print_lyrics():\n",
        "    print(\"I'm a lumberjack, and I'm okay.\")\n",
        "    print('I sleep all night and I work all day.')\n",
        "\n",
        "def repeat_lyrics():\n",
        "    print_lyrics()\n",
        "    print_lyrics()"
      ],
      "metadata": {
        "colab": {
          "base_uri": "https://localhost:8080/"
        },
        "id": "SdabJgPcd7SF",
        "outputId": "6bb8038e-6870-4c41-ebf6-5931aaa308a0"
      },
      "execution_count": 14,
      "outputs": [
        {
          "output_type": "stream",
          "name": "stdout",
          "text": [
            "I'm a lumberjack, and I'm okay.\n",
            "I sleep all night and I work all day.\n",
            "I'm a lumberjack, and I'm okay.\n",
            "I sleep all night and I work all day.\n"
          ]
        }
      ]
    },
    {
      "cell_type": "markdown",
      "source": [
        "💡 Explanation:\n",
        "\n",
        "In Python, you must define a function *before* you can call it. When you move the `repeat_lyrics()` call to the top of the program — before the function `repeat_lyrics()` is defined — Python raises a `NameError`, because it doesn't know what `repeat_lyrics` refers to yet.\n",
        "\n",
        "This shows that Python reads your code from top to bottom, and it needs to know what a function is *before* it sees any attempt to use it."
      ],
      "metadata": {
        "id": "GAG419xEeFDP"
      }
    },
    {
      "cell_type": "markdown",
      "source": [
        "## 🧠 Exercise 3\n",
        "### Exercise 3: Move the function call back to the bottom and move the definition of print_lyrics after the definition of repeat_lyrics. What happens when you run this program?\n",
        "\n",
        "✅ Answer:"
      ],
      "metadata": {
        "id": "7fivmliFeZJL"
      }
    },
    {
      "cell_type": "code",
      "source": [
        "def repeat_lyrics():\n",
        "    print_lyrics()\n",
        "    print_lyrics()\n",
        "\n",
        "def print_lyrics():\n",
        "    print(\"I'm a lumberjack, and I'm okay.\")\n",
        "    print('I sleep all night and I work all day.')\n",
        "\n",
        "repeat_lyrics()"
      ],
      "metadata": {
        "colab": {
          "base_uri": "https://localhost:8080/"
        },
        "id": "4e60wEWnepui",
        "outputId": "7ce7d54d-882b-4762-a1aa-05fdc08d4583"
      },
      "execution_count": 15,
      "outputs": [
        {
          "output_type": "stream",
          "name": "stdout",
          "text": [
            "I'm a lumberjack, and I'm okay.\n",
            "I sleep all night and I work all day.\n",
            "I'm a lumberjack, and I'm okay.\n",
            "I sleep all night and I work all day.\n"
          ]
        }
      ]
    },
    {
      "cell_type": "markdown",
      "source": [
        "💡 Explanation:\n",
        "\n",
        "This time, the program runs without any error and prints the lyrics twice.\n",
        "\n",
        "Even though the `print_lyrics()` function is defined *after* `repeat_lyrics()`, Python doesn’t execute function bodies until the function is actually called. It only needs to **parse** the entire script first, and as long as `print_lyrics` is defined *somewhere* before it is called at runtime, everything works fine.\n",
        "\n",
        "In this case, when Python parses `repeat_lyrics()`, it doesn't run it immediately — it just notes the definition. Later, when `repeat_lyrics()` is called at the bottom of the script, `print_lyrics()` is already defined, so Python can successfully call it.\n",
        "\n",
        "Python must see function definitions before *calls at runtime*, not necessarily before other function definitions.\n",
        "\n",
        "\n",
        "\n",
        "\n",
        "\n",
        "\n",
        "\n",
        "\n"
      ],
      "metadata": {
        "id": "Z5SBDpjDfWyU"
      }
    },
    {
      "cell_type": "markdown",
      "source": [
        "## 🧠 Exercise 4\n",
        "### What is the purpose of the “def” keyword in Python?\n",
        "\n",
        "a) It is slang that means “the following code is really cool”\n",
        "\n",
        "b) It indicates the start of a function\n",
        "\n",
        "c) It indicates that the following indented section of code is to be stored for later\n",
        "\n",
        "d) b and c are both true\n",
        "\n",
        "e) None of the above\n",
        "\n",
        "✅ Answer: d) b and c are both true\n",
        "\n",
        "💡 Explanation:\n",
        "\n",
        "The `def` keyword in Python is used to **define a function**. This signals to the interpreter that the following block of code (which must be indented) is not to be executed immediately, but rather **stored** under a function name to be used (called) later.\n",
        "\n",
        "- **b) is true**: It indicates the start of a function.\n",
        "- **c) is true**: The indented code after `def` is saved and will only run when the function is called.\n",
        "\n",
        "Therefore, both **b** and **c** are correct."
      ],
      "metadata": {
        "id": "2IEPGrpafilI"
      }
    },
    {
      "cell_type": "markdown",
      "source": [
        "## 🧠 Exercise 5\n",
        "### What will the following Python program print out?\n",
        "\n",
        "```\n",
        "def fred():\n",
        "    print(\"Zap\")\n",
        "\n",
        "def jane():\n",
        "    print(\"ABC\")\n",
        "\n",
        "jane()\n",
        "fred()\n",
        "jane()\n",
        "```\n",
        "\n",
        "a) Zap ABC jane fred jane\n",
        "\n",
        "b) Zap ABC Zap\n",
        "\n",
        "c) ABC Zap jane\n",
        "\n",
        "d) ABC Zap ABC\n",
        "\n",
        "e) Zap Zap Zap\n",
        "\n",
        "✅ Answer: d) ABC Zap ABC\n",
        "\n",
        "💡 Explanation:\n",
        "\n",
        "jane() is called first, so it prints \"ABC\".\n",
        "\n",
        "fred() is called next, printing \"Zap\".\n",
        "\n",
        "jane() is called again, printing \"ABC\" once more."
      ],
      "metadata": {
        "id": "I7lRLkaNpPFJ"
      }
    },
    {
      "cell_type": "markdown",
      "source": [
        "## 🧠 Exercise 6\n",
        "### Rewrite your pay computation with time-and-a-half for overtime and create a function called computepay which takes two parameters (`hours` and `rate`).\n",
        "\n",
        "```\n",
        "Enter Hours: 45\n",
        "Enter Rate: 10\n",
        "Pay: 475.0\n",
        "```\n",
        "✅ Answer:"
      ],
      "metadata": {
        "id": "UID0XvrIp1Yn"
      }
    },
    {
      "cell_type": "code",
      "source": [
        "def computepay(hours,rate):\n",
        "    if hours > 40:\n",
        "        extra_hours = hours - 40\n",
        "        pay = (40 * rate) + (extra_hours * rate * 1.5)\n",
        "    else:\n",
        "        pay = hours * rate\n",
        "    return pay\n",
        "\n",
        "x = computepay(45,10)\n",
        "print('Pay:', x)"
      ],
      "metadata": {
        "colab": {
          "base_uri": "https://localhost:8080/"
        },
        "id": "V3PgjTOnqMlP",
        "outputId": "2acd3d93-2f9e-4b03-83ba-9f372a9db6ec"
      },
      "execution_count": 17,
      "outputs": [
        {
          "output_type": "stream",
          "name": "stdout",
          "text": [
            "Pay: 475.0\n"
          ]
        }
      ]
    },
    {
      "cell_type": "markdown",
      "source": [
        "💡 Explanation:\n",
        "\n",
        "The function computepay calculates payment based on standard and overtime rules. If the number of hours is over 40, the extra hours are paid at 1.5 times the hourly rate. Otherwise, regular pay is computed. The function returns the total pay and prints it."
      ],
      "metadata": {
        "id": "9f1NDvStrTrX"
      }
    },
    {
      "cell_type": "markdown",
      "source": [
        "## 🧠 Exercise 7\n",
        "### Rewrite the grade program from the previous chapter using a function called computegrade that takes a score as its parameter and returns a grade as a string.\n",
        "\n",
        "| Score  | Grade |\n",
        "|--------|-------|\n",
        "| >= 0.9 | A     |\n",
        "| >= 0.8 | B     |\n",
        "| >= 0.7 | C     |\n",
        "| >= 0.6 | D     |\n",
        "| < 0.6  | F     |\n",
        "\n",
        "```\n",
        "Enter score: 0.95\n",
        "A\n",
        "Enter score: perfect\n",
        "Bad score\n",
        "Enter score: 10.0\n",
        "Bad score\n",
        "Enter score: 0.75\n",
        "C\n",
        "Enter score: 0.5\n",
        "F\n",
        "```\n",
        "Run the program repeatedly as shown above to test the various different values for input.\n",
        "\n",
        "✅ Answer:"
      ],
      "metadata": {
        "id": "brJ3vGpZstwl"
      }
    },
    {
      "cell_type": "code",
      "source": [
        "def computegrade(score):\n",
        "    try:\n",
        "        score = float(score)\n",
        "        if score < 0.0 or score > 1.0:\n",
        "            return 'Bad score'\n",
        "        elif score >= 0.9:\n",
        "            return 'A'\n",
        "        elif score >= 0.8:\n",
        "            return 'B'\n",
        "        elif score >= 0.7:\n",
        "            return 'C'\n",
        "        elif score >= 0.6:\n",
        "            return 'D'\n",
        "        else:\n",
        "            return 'F'\n",
        "    except:\n",
        "        return 'Bad score'\n",
        "\n",
        "print(computegrade(0.95))\n",
        "print(computegrade('perfect'))\n",
        "print(computegrade(10.0))\n",
        "print(computegrade(0.75))\n",
        "print(computegrade(0.5))"
      ],
      "metadata": {
        "colab": {
          "base_uri": "https://localhost:8080/"
        },
        "id": "cKvOWJXttA2C",
        "outputId": "5ae3e995-5309-418c-b985-005d998008f9"
      },
      "execution_count": 21,
      "outputs": [
        {
          "output_type": "stream",
          "name": "stdout",
          "text": [
            "A\n",
            "Bad score\n",
            "Bad score\n",
            "C\n",
            "F\n"
          ]
        }
      ]
    },
    {
      "cell_type": "markdown",
      "source": [
        "💡 Explanation:\n",
        "\n",
        "In this exercise, we refactored the grade-evaluation program into a function called computegrade(score) that takes a single parameter and returns the corresponding grade based on a predefined grading scale.\n",
        "\n",
        "We also included error handling to deal with two kinds of invalid input:\n",
        "\n",
        "- Non-numeric input (like 'perfect') is caught using a try/except block to avoid crashes due to type conversion errors.\n",
        "\n",
        "- Out-of-range numeric input (values not between 0.0 and 1.0) is handled explicitly with a conditional check."
      ],
      "metadata": {
        "id": "wqNsK1AQuw49"
      }
    },
    {
      "cell_type": "markdown",
      "source": [
        "# 📚 Summary – What I Learned from These Exercises\n",
        "\n",
        "In Chapter 4, I learned how to define and use functions in Python to organize code more effectively. Specifically:\n",
        "\n",
        "- The `def` keyword is used to create functions, allowing me to group reusable blocks of code under a name.\n",
        "\n",
        "- Function definitions must appear before they are called in the program, or else Python will raise an error.\n",
        "\n",
        "- I learned how to pass arguments to functions and how to use return to send back a result.\n",
        "\n",
        "- Writing functions helps avoid repetition, making the code cleaner and easier to maintain.\n",
        "\n",
        "- I also saw how important it is to manage the order of definitions and calls when structuring a script.\n",
        "\n",
        "By rewriting previous programs using functions, I saw how modularity improves both readability and reusability."
      ],
      "metadata": {
        "id": "n9-_rV4yu3FG"
      }
    }
  ]
}