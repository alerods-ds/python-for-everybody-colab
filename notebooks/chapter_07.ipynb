{
  "nbformat": 4,
  "nbformat_minor": 0,
  "metadata": {
    "colab": {
      "provenance": [],
      "mount_file_id": "1bGf2ZkKUwwnloNBlhAZy88gzClehejzA",
      "authorship_tag": "ABX9TyOmjouWyo/VV1p9SF6vbgTD",
      "include_colab_link": true
    },
    "kernelspec": {
      "name": "python3",
      "display_name": "Python 3"
    },
    "language_info": {
      "name": "python"
    }
  },
  "cells": [
    {
      "cell_type": "markdown",
      "metadata": {
        "id": "view-in-github",
        "colab_type": "text"
      },
      "source": [
        "<a href=\"https://colab.research.google.com/github/alerods-ds/python-for-everybody-colab/blob/main/notebooks/chapter_07.ipynb\" target=\"_parent\"><img src=\"https://colab.research.google.com/assets/colab-badge.svg\" alt=\"Open In Colab\"/></a>"
      ]
    },
    {
      "cell_type": "markdown",
      "source": [
        "# 📘 Chapter 7: Files - Exercises\n",
        "\n",
        "This notebook contains the solutions to the exercises from Chapter 7 of *Python for Everybody* by Charles Severance."
      ],
      "metadata": {
        "id": "xCdwF4bOQ7_V"
      }
    },
    {
      "cell_type": "markdown",
      "source": [
        "## 🧠 Exercise 1\n",
        "### Write a program to read through a file and print the contents of the file (line by line) all in upper case. Executing the program will look as follows:\n",
        "```\n",
        "python shout.py\n",
        "Enter a file name: mbox-short.txt\n",
        "FROM STEPHEN.MARQUARD@UCT.AC.ZA SAT JAN 5 09:14:16 2008\n",
        "RETURN-PATH: <POSTMASTER@COLLAB.SAKAIPROJECT.ORG>\n",
        "RECEIVED: FROM MURDER (MAIL.UMICH.EDU [141.211.14.90])\n",
        "    BY FRANKENSTEIN.MAIL.UMICH.EDU (CYRUS V2.3.8) WITH LMTPA;\n",
        "    SAT, 05 JAN 2008 09:14:16 -0500\n",
        "```\n",
        "### You can download the file from www.py4e.com/code3/mbox-short.txt\n",
        "\n",
        "✅ Answer:"
      ],
      "metadata": {
        "id": "x75sQIaNR6f4"
      }
    },
    {
      "cell_type": "code",
      "source": [
        "fname = '/content/drive/My Drive/python-for-everybody/data/mbox-short.txt'\n",
        "\n",
        "fhand = open(fname, 'r')\n",
        "\n",
        "for line in fhand:\n",
        "    line = line.upper()\n",
        "    print(line)"
      ],
      "metadata": {
        "id": "1XOmub18SNog"
      },
      "execution_count": null,
      "outputs": []
    },
    {
      "cell_type": "markdown",
      "source": [
        "💡 Explanation:\n",
        "\n",
        "In this exercise, I practiced reading a file line by line and printing each line in uppercase. First, I used the `open()` function to get a file handle for the file stored in my Google Drive. Then I used a `for` loop to iterate through the file, line by line.\n",
        "\n",
        "Inside the loop, I used the `upper()` string method to convert each line to uppercase before printing it. This way, the output matches the exercise's requirement to \"shout\" the contents of the file. Using `.upper()` directly on the line is efficient, and the loop structure handles the entire file cleanly.\n",
        "\n",
        "This exercise helped reinforce how to read from a file, process each line, and apply string methods in practice."
      ],
      "metadata": {
        "id": "534lzYJiX9GM"
      }
    },
    {
      "cell_type": "markdown",
      "source": [
        "## 🧠 Exercise 2\n",
        "### Write a program to prompt for a file name, and then read through the file and look for lines of the form:\n",
        "```\n",
        "X-DSPAM-Confidence: 0.8475\n",
        "```\n",
        "### When you encounter a line that starts with “X-DSPAM-Confidence:” pull apart the line to extract the floating-point number on the line. Count these lines and then compute the total of the spam confidence values from these lines. When you reach the end of the file, print out the average spam confidence.\n",
        "```\n",
        "Enter the file name: mbox.txt\n",
        "Average spam confidence: 0.894128046745\n",
        "\n",
        "Enter the file name: mbox-short.txt\n",
        "Average spam confidence: 0.750718518519\n",
        "```\n",
        "### Test your file on the mbox.txt and mbox-short.txt files.\n",
        "\n",
        "✅ Answer:"
      ],
      "metadata": {
        "id": "wj4srlruYHBH"
      }
    },
    {
      "cell_type": "code",
      "source": [
        "fname = input('Enter the file name: ')\n",
        "\n",
        "try:\n",
        "    fhand = open(fname, 'r')\n",
        "except:\n",
        "    print('File cannot be opened: ', fname)\n",
        "    exit()\n",
        "\n",
        "count = 0\n",
        "spam = 0\n",
        "\n",
        "for line in fhand:\n",
        "    if line.startswith('X-DSPAM-Confidence:'):\n",
        "        position = line.find(':') + 1\n",
        "        number = float(line[position:])\n",
        "        count = count + 1\n",
        "        spam = spam + number\n",
        "\n",
        "average_spam = spam / count\n",
        "print('Average spam confidence: ', round(average_spam, 4))"
      ],
      "metadata": {
        "colab": {
          "base_uri": "https://localhost:8080/"
        },
        "id": "Y58bXaOLdDO3",
        "outputId": "adbfd275-57e3-4b32-e269-49900467faac"
      },
      "execution_count": 3,
      "outputs": [
        {
          "output_type": "stream",
          "name": "stdout",
          "text": [
            "Enter the file name: /content/drive/My Drive/python-for-everybody/data/mbox.txt\n",
            "Average spam confidence:  0.8941\n"
          ]
        }
      ]
    },
    {
      "cell_type": "markdown",
      "source": [
        "💡 Explanation:\n",
        "\n",
        "In this exercise, I wrote a program that reads through a file and looks for lines that start with `\"X-DSPAM-Confidence:\"`. Each of these lines contains a floating-point number that I need to extract and use to calculate the average spam confidence.\n",
        "\n",
        "I started by prompting the user for the filename and added a `try/except` block to handle errors if the file doesn't exist. Then, I looped through the file line by line. For each line that starts with the target prefix, I used `.find(':') + 1` to locate the start of the number and then sliced the string from that position. I converted the extracted substring to a float and accumulated it into a running total. I also kept a count of how many such lines I found.\n",
        "\n",
        "Finally, I computed the average by dividing the total spam confidence by the number of valid lines and printed the result. This exercise helped me practice file reading, string parsing, exception handling, and working with floating-point numbers in Python.\n",
        "\n",
        "\n",
        "\n",
        "\n",
        "\n",
        "\n",
        "\n",
        "\n"
      ],
      "metadata": {
        "id": "76kbraISgYid"
      }
    },
    {
      "cell_type": "markdown",
      "source": [
        "## 🧠 Exercise 3\n",
        "### Sometimes when programmers get bored or want to have a bit of fun, they add a harmless *Easter Egg* to their program. Modify the program that prompts the user for the file name so that it prints a funny message when the user types in the exact file name “na na boo boo”. The program should behave normally for all other files which exist and don’t exist. Here is a sample execution of the program:\n",
        "```\n",
        "python egg.py\n",
        "Enter the file name: mbox.txt\n",
        "There were 1797 subject lines in mbox.txt\n",
        "\n",
        "python egg.py\n",
        "Enter the file name: missing.tyxt\n",
        "File cannot be opened: missing.tyxt\n",
        "\n",
        "python egg.py\n",
        "Enter the file name: na na boo boo\n",
        "NA NA BOO BOO TO YOU - You have been punk'd!\n",
        "```\n",
        "### We are not encouraging you to put Easter Eggs in your programs; this is just an exercise.\n",
        "\n",
        "✅ Answer:"
      ],
      "metadata": {
        "id": "immSWffxgjLi"
      }
    },
    {
      "cell_type": "code",
      "source": [
        "fname = input('Enter the file name: ')\n",
        "\n",
        "if fname == 'na na boo boo':\n",
        "    print(\"NA NA BOO BOO TO YOU - You have benn punk'd!\")\n",
        "    exit()\n",
        "\n",
        "try:\n",
        "    fhand = open(fname, 'r')\n",
        "except:\n",
        "    print('File cannot be opened: ', fname)\n",
        "    exit()\n",
        "\n",
        "count = 0\n",
        "\n",
        "for line in fhand:\n",
        "    if line.startswith('Subject:'):\n",
        "        count = count + 1"
      ],
      "metadata": {
        "colab": {
          "base_uri": "https://localhost:8080/"
        },
        "id": "xDyyhhixhG9e",
        "outputId": "9d50639c-4acc-4638-f6b1-a479eadd55dc"
      },
      "execution_count": 7,
      "outputs": [
        {
          "output_type": "stream",
          "name": "stdout",
          "text": [
            "Enter the file name: na na boo boo\n",
            "NA NA BOO BOO TO YOU - You have benn punk'd!\n",
            "File cannot be opened:  na na boo boo\n"
          ]
        }
      ]
    },
    {
      "cell_type": "code",
      "source": [
        "# For mbox-short.txt\n",
        "\n",
        "print(f\"There were {count} subject lines in {fname}\")"
      ],
      "metadata": {
        "colab": {
          "base_uri": "https://localhost:8080/"
        },
        "id": "ZXT3dMuxkJ_G",
        "outputId": "26ae7bee-8304-4d26-b1ff-e88ceea39df1"
      },
      "execution_count": 4,
      "outputs": [
        {
          "output_type": "stream",
          "name": "stdout",
          "text": [
            "There were 27 subject lines in /content/drive/My Drive/python-for-everybody/data/mbox-short.txt\n"
          ]
        }
      ]
    },
    {
      "cell_type": "code",
      "source": [
        "# For mbox.txt\n",
        "\n",
        "print(f\"There were {count} subject lines in {fname}\")"
      ],
      "metadata": {
        "colab": {
          "base_uri": "https://localhost:8080/"
        },
        "id": "Df3HdtxvkJ01",
        "outputId": "f8c03d1c-cb04-4854-976d-25019fc7b602"
      },
      "execution_count": 6,
      "outputs": [
        {
          "output_type": "stream",
          "name": "stdout",
          "text": [
            "There were 1797 subject lines in /content/drive/My Drive/python-for-everybody/data/mbox.txt\n"
          ]
        }
      ]
    },
    {
      "cell_type": "markdown",
      "source": [
        "💡 Explanation:\n",
        "\n",
        "This program prompts the user to enter the name of a file. If the user types the special string `\"na na boo boo\"`, the program prints a funny message and exits immediately using `exit()`—this is the “Easter Egg” part of the exercise.\n",
        "\n",
        "If the input is any other file name, the program tries to open the file inside a `try/except` block. If the file doesn't exist or can’t be opened, it prints an error message and exits.\n",
        "\n",
        "If the file opens successfully, the program loops through each line of the file and checks if the line starts with `\"Subject:\"`. For each such line, it increments a counter. Finally, it prints how many subject lines were found in the file using an f-string for clean output.\n",
        "\n",
        "This exercise helped reinforce how to:\n",
        "\n",
        "- Handle user input and special cases\n",
        "\n",
        "- Use `try/except` blocks for safe file access\n",
        "\n",
        "- Work with strings using `startswith()`\n",
        "\n",
        "- Use a counter in a `for` loop\n",
        "\n",
        "- Write clear and informative output\n",
        "\n"
      ],
      "metadata": {
        "id": "VZo7Nr1EkweS"
      }
    },
    {
      "cell_type": "markdown",
      "source": [
        "# 📚 Summary – What I Learned from These Exercises\n",
        "\n",
        "With these exercises, I practiced how to read data from text files in Python and process the content line by line. I learned how to:\n",
        "\n",
        "- Open and read files using `open()`.\n",
        "\n",
        "- Prompt the user for file names and add special behavior for custom inputs (like Easter Eggs).\n",
        "\n",
        "- Use string methods like `.startswith()` to filter specific lines from a file.\n",
        "\n",
        "- Extract useful data from lines using `.find()` and slicing, and convert it to the appropriate type (e.g., `float()`).\n",
        "\n",
        "- Accumulate values to compute summaries like averages.\n",
        "\n",
        "- Write clean, readable output using f-strings.\n",
        "\n",
        "These exercises helped me get more comfortable working with files, managing user input, and writing loops to process data in real-world formats. I also saw how to combine control flow, string manipulation, and error handling to write more robust programs."
      ],
      "metadata": {
        "id": "QUKUrZ6yihOM"
      }
    }
  ]
}