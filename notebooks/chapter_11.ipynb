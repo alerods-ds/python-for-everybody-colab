{
  "nbformat": 4,
  "nbformat_minor": 0,
  "metadata": {
    "colab": {
      "provenance": [],
      "mount_file_id": "1UT6nNm2hmiCzyQ9c1WQ1VAkx-dNVaUgy",
      "authorship_tag": "ABX9TyOtxuaq8AKL/LWFGh+HZ9M/",
      "include_colab_link": true
    },
    "kernelspec": {
      "name": "python3",
      "display_name": "Python 3"
    },
    "language_info": {
      "name": "python"
    }
  },
  "cells": [
    {
      "cell_type": "markdown",
      "metadata": {
        "id": "view-in-github",
        "colab_type": "text"
      },
      "source": [
        "<a href=\"https://colab.research.google.com/github/alerods-ds/python-for-everybody-colab/blob/main/notebooks/chapter_11.ipynb\" target=\"_parent\"><img src=\"https://colab.research.google.com/assets/colab-badge.svg\" alt=\"Open In Colab\"/></a>"
      ]
    },
    {
      "cell_type": "markdown",
      "source": [
        "# 📘 Chapter 11: Regular expressions - Exercises\n",
        "\n",
        "This notebook contains the solutions to the exercises from Chapter 11 of *Python for Everybody* by Charles Severance."
      ],
      "metadata": {
        "id": "vgEtN4cYdwfw"
      }
    },
    {
      "cell_type": "markdown",
      "source": [
        "## 🧠 Exercise 1\n",
        "### Write a simple program to simulate the operation of the `grep` command on Unix. Ask the user to enter a regular expression and count the number of lines that matched the regular expression:\n",
        "```\n",
        "$ python grep.py\n",
        "Enter a regular expression: ^Author\n",
        "mbox.txt had 1798 lines that matched ^Author\n",
        "\n",
        "$ python grep.py\n",
        "Enter a regular expression: ^X-\n",
        "mbox.txt had 14368 lines that matched ^X-\n",
        "\n",
        "$ python grep.py\n",
        "Enter a regular expression: java$\n",
        "mbox.txt had 4175 lines that matched java$\n",
        "```\n",
        "✅ Answer:"
      ],
      "metadata": {
        "id": "GJpSYCZdd20A"
      }
    },
    {
      "cell_type": "code",
      "source": [
        "import re"
      ],
      "metadata": {
        "id": "_HtagzqQeZkr"
      },
      "execution_count": 1,
      "outputs": []
    },
    {
      "cell_type": "code",
      "source": [
        "input_file = input('Enter a file name: ')\n",
        "\n",
        "file_name = f\"/content/drive/My Drive/python-for-everybody/data/{input_file}\"\n",
        "\n",
        "fhand = open(file_name, 'r')\n",
        "\n",
        "regex = input('Enter a regular expression: ')\n",
        "\n",
        "count = 0\n",
        "\n",
        "for line in fhand:\n",
        "    line = line.rstrip()\n",
        "    x = re.search(regex, line)\n",
        "    if x:\n",
        "      count += 1"
      ],
      "metadata": {
        "colab": {
          "base_uri": "https://localhost:8080/"
        },
        "id": "I10v8dF5ePq-",
        "outputId": "81f12e56-2534-4784-e946-686706863318"
      },
      "execution_count": 19,
      "outputs": [
        {
          "name": "stdout",
          "output_type": "stream",
          "text": [
            "Enter a file name: mbox.txt\n",
            "Enter a regular expression: java$\n"
          ]
        }
      ]
    },
    {
      "cell_type": "code",
      "source": [
        "# Enter a regular expression: ^Author\n",
        "\n",
        "print(f'{input_file} had {count} lines that matched {regex}')"
      ],
      "metadata": {
        "colab": {
          "base_uri": "https://localhost:8080/"
        },
        "id": "lAP0BBWZgBpt",
        "outputId": "f48be7e1-1a48-4735-a2ef-5a987cce8baa"
      },
      "execution_count": 16,
      "outputs": [
        {
          "output_type": "stream",
          "name": "stdout",
          "text": [
            "mbox.txt had 1798 lines that matched ^Author\n"
          ]
        }
      ]
    },
    {
      "cell_type": "code",
      "source": [
        "# Enter a regular expression: ^X-\n",
        "\n",
        "print(f'{input_file} had {count} lines that matched {regex}')"
      ],
      "metadata": {
        "colab": {
          "base_uri": "https://localhost:8080/"
        },
        "id": "ttsIJeqCgCjL",
        "outputId": "2236b189-826f-4661-f8c5-8697632b7c35"
      },
      "execution_count": 18,
      "outputs": [
        {
          "output_type": "stream",
          "name": "stdout",
          "text": [
            "mbox.txt had 14368 lines that matched ^X-\n"
          ]
        }
      ]
    },
    {
      "cell_type": "code",
      "source": [
        "# Enter a regular expression: java$\n",
        "\n",
        "print(f'{input_file} had {count} lines that matched {regex}')"
      ],
      "metadata": {
        "colab": {
          "base_uri": "https://localhost:8080/"
        },
        "id": "Qy0tOLS-gCJj",
        "outputId": "a2def58d-bb07-45e0-8e48-9b01344c94e1"
      },
      "execution_count": 20,
      "outputs": [
        {
          "output_type": "stream",
          "name": "stdout",
          "text": [
            "mbox.txt had 4218 lines that matched java$\n"
          ]
        }
      ]
    },
    {
      "cell_type": "markdown",
      "source": [
        "💡 Explanation:\n",
        "\n",
        "This program simulates the basic behavior of the Unix `grep` command by reading a text file and counting how many lines match a user-specified regular expression. It prompts the user for the file name and the regular expression. For each line, it removes trailing whitespace and checks for a match using `re.search()`, which efficiently determines whether at least one match exists. If there is a match, it increments a counter. Finally, it prints the total number of matching lines. This demonstrates how to apply regular expressions to text files for pattern searching."
      ],
      "metadata": {
        "id": "G0Pj_yOFgsKl"
      }
    },
    {
      "cell_type": "markdown",
      "source": [
        "## 🧠 Exercise 2\n",
        "### Write a program to look for lines of the form:\n",
        "```\n",
        "New Revision: 39772\n",
        "```\n",
        "### Extract the number from each of the lines using a regular expression and the `findall()` method. Compute the average of the numbers and print out the average as an integer.\n",
        "```\n",
        "Enter file:mbox.txt\n",
        "38549\n",
        "\n",
        "Enter file:mbox-short.txt\n",
        "39756\n",
        "```\n",
        "\n",
        "✅ Answer:"
      ],
      "metadata": {
        "id": "bCKz4Vg8iGgR"
      }
    },
    {
      "cell_type": "code",
      "source": [
        "input_file = input('Enter a file name: ')\n",
        "\n",
        "file_name = f\"/content/drive/My Drive/python-for-everybody/data/{input_file}\"\n",
        "\n",
        "fhand = open(file_name, 'r')\n",
        "\n",
        "regex = 'New Revision: ([0-9]+)'\n",
        "\n",
        "numbers = []\n",
        "\n",
        "for line in fhand:\n",
        "    line = line.rstrip()\n",
        "    x = re.findall(regex, line)\n",
        "    if len(x) > 0:\n",
        "        number = int(x[0])\n",
        "        numbers.append(number)"
      ],
      "metadata": {
        "colab": {
          "base_uri": "https://localhost:8080/"
        },
        "id": "j3hC4bcMiZli",
        "outputId": "4310186e-4087-4c27-8d82-098e8eebbaf6"
      },
      "execution_count": 25,
      "outputs": [
        {
          "name": "stdout",
          "output_type": "stream",
          "text": [
            "Enter a file name: mbox-short.txt\n"
          ]
        }
      ]
    },
    {
      "cell_type": "code",
      "source": [
        "# mbox.txt\n",
        "\n",
        "average = sum(numbers) / len(numbers)\n",
        "print(int(average))"
      ],
      "metadata": {
        "colab": {
          "base_uri": "https://localhost:8080/"
        },
        "id": "A96A2g2vk67r",
        "outputId": "01b7c3a5-741c-4322-f221-6e0b06441551"
      },
      "execution_count": 24,
      "outputs": [
        {
          "output_type": "stream",
          "name": "stdout",
          "text": [
            "38549\n"
          ]
        }
      ]
    },
    {
      "cell_type": "code",
      "source": [
        "# mbox-short.txt\n",
        "\n",
        "average = sum(numbers) / len(numbers)\n",
        "print(int(average))"
      ],
      "metadata": {
        "colab": {
          "base_uri": "https://localhost:8080/"
        },
        "id": "1e2aJrKak6md",
        "outputId": "4baed5d6-7be0-4cfe-d715-bbf0bccf96d2"
      },
      "execution_count": 26,
      "outputs": [
        {
          "output_type": "stream",
          "name": "stdout",
          "text": [
            "39756\n"
          ]
        }
      ]
    },
    {
      "cell_type": "markdown",
      "source": [
        "💡 Explanation:\n",
        "\n",
        "This program reads through a file and searches for lines that match the pattern `New Revision: <number>`. It uses `re.findall()` with a capturing group to extract the number from each matching line. Each extracted number is converted to an integer and stored in a list. After reading the entire file, the program computes the average of all collected numbers and prints the result as an integer. This shows how to use regular expressions to extract numeric data and perform calculations on the extracted values."
      ],
      "metadata": {
        "id": "kg7mjoxwlGy9"
      }
    },
    {
      "cell_type": "markdown",
      "source": [
        "# 📚 Summary – What I Learned from These Exercises\n",
        "\n",
        "In this chapter, I learned how to apply regular expressions in Python to search for patterns and extract information from text. I practiced using `re.search()` to check for pattern matches and `re.findall()` to capture specific parts of lines. These exercises showed how regular expressions can simplify complex string processing tasks, such as counting matching lines or extracting numerical data to calculate statistics. This knowledge is essential for parsing and analyzing unstructured text data in real-world scenarios."
      ],
      "metadata": {
        "id": "2nWIsbh3lQjA"
      }
    }
  ]
}