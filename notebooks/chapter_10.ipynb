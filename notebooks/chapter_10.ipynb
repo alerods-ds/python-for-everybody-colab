{
  "nbformat": 4,
  "nbformat_minor": 0,
  "metadata": {
    "colab": {
      "provenance": [],
      "mount_file_id": "15qQ0QkmyDOwPh656ahQvIRk_Bku6A8-C",
      "authorship_tag": "ABX9TyMV75wXfdVAuxnT9YRaxzYu",
      "include_colab_link": true
    },
    "kernelspec": {
      "name": "python3",
      "display_name": "Python 3"
    },
    "language_info": {
      "name": "python"
    }
  },
  "cells": [
    {
      "cell_type": "markdown",
      "metadata": {
        "id": "view-in-github",
        "colab_type": "text"
      },
      "source": [
        "<a href=\"https://colab.research.google.com/github/alerods-ds/python-for-everybody-colab/blob/main/notebooks/chapter_10.ipynb\" target=\"_parent\"><img src=\"https://colab.research.google.com/assets/colab-badge.svg\" alt=\"Open In Colab\"/></a>"
      ]
    },
    {
      "cell_type": "markdown",
      "source": [
        "# 📘 Chapter 10: Tuples - Exercises\n",
        "\n",
        "This notebook contains the solutions to the exercises from Chapter 10 of *Python for Everybody* by Charles Severance."
      ],
      "metadata": {
        "id": "eV-qT8dndcKc"
      }
    },
    {
      "cell_type": "markdown",
      "source": [
        "## 🧠 Exercise 1\n",
        "### Revise a previous program as follows: Read and parse the “From” lines and pull out the addresses from the line. Count the number of messages from each person using a dictionary.\n",
        "\n",
        "### After all the data has been read, print the person with the most commits by creating a list of (count, email) tuples from the dictionary. Then sort the list in reverse order and print out the person who has the most commits.\n",
        "```\n",
        "Sample Line:\n",
        "From stephen.marquard@uct.ac.za Sat Jan 5 09:14:16 2008\n",
        "\n",
        "Enter a file name: mbox-short.txt\n",
        "cwen@iupui.edu 5\n",
        "\n",
        "Enter a file name: mbox.txt\n",
        "zqian@umich.edu 195\n",
        "```\n",
        "\n",
        "✅ Answer:"
      ],
      "metadata": {
        "id": "mR6GYon1dgc-"
      }
    },
    {
      "cell_type": "code",
      "source": [
        "input_file = input('Enter a file name: ')\n",
        "\n",
        "file_name = f\"/content/drive/My Drive/python-for-everybody/data/{input_file}\"\n",
        "\n",
        "fhand = open(file_name, 'r')\n",
        "\n",
        "email_addresses = {}\n",
        "\n",
        "for line in fhand:\n",
        "    words = line.split()\n",
        "    if len(words) < 2 or words[0] != 'From': continue\n",
        "    if words[1] in email_addresses:\n",
        "        email_addresses[words[1]] += 1\n",
        "    else:\n",
        "        email_addresses[words[1]] = 1\n",
        "\n",
        "commits_list = []\n",
        "\n",
        "for key, val in email_addresses.items():\n",
        "    commits_list.append((val, key))\n",
        "\n",
        "commits_list.sort(reverse=True)\n",
        "\n",
        "commits, person = commits_list[0]\n",
        "\n",
        "print(f'{person} {commits}')"
      ],
      "metadata": {
        "colab": {
          "base_uri": "https://localhost:8080/"
        },
        "id": "EPoPhEltyGaW",
        "outputId": "574c2378-d900-4f28-9259-88356d3b2176"
      },
      "execution_count": 5,
      "outputs": [
        {
          "output_type": "stream",
          "name": "stdout",
          "text": [
            "Enter a file name: mbox.txt\n",
            "zqian@umich.edu 195\n"
          ]
        }
      ]
    },
    {
      "cell_type": "markdown",
      "source": [
        "💡 Explanation:\n",
        "\n",
        "This program counts how many messages were sent from each email address, then identifies the one with the most commits. It first builds a dictionary to track counts, then converts the dictionary to a list of `(count, email)` tuples. By sorting the list in reverse order, the entry with the highest count appears first, allowing us to extract and print the most active sender."
      ],
      "metadata": {
        "id": "kpfO0E-04eSV"
      }
    },
    {
      "cell_type": "markdown",
      "source": [
        "## 🧠 Exercise 2\n",
        "### This program counts the distribution of the hour of the day for each of the messages. You can pull the hour from the “From” line by finding the time string and then splitting that string into parts using the colon character. Once you have accumulated the counts for each hour, print out the counts, one per line, sorted by hour as shown below.\n",
        "```\n",
        "python timeofday.py\n",
        "Enter a file name: mbox-short.txt\n",
        "04 3\n",
        "06 1\n",
        "07 1\n",
        "09 2\n",
        "10 3\n",
        "11 6\n",
        "14 1\n",
        "15 2\n",
        "16 4\n",
        "17 2\n",
        "18 1\n",
        "19 1\n",
        "```\n",
        "\n",
        "✅ Answer:"
      ],
      "metadata": {
        "id": "NQWY3o-r4jXO"
      }
    },
    {
      "cell_type": "code",
      "source": [
        "input_file = input('Enter a file name: ')\n",
        "\n",
        "file_name = f\"/content/drive/My Drive/python-for-everybody/data/{input_file}\"\n",
        "\n",
        "fhand = open(file_name, 'r')\n",
        "\n",
        "hours = {}\n",
        "\n",
        "for line in fhand:\n",
        "    words = line.split()\n",
        "    if len(words) < 6 or words[0] != 'From': continue\n",
        "\n",
        "    time = words[5].split(':')\n",
        "    if time[0] in hours:\n",
        "        hours[time[0]] += 1\n",
        "    else:\n",
        "        hours[time[0]] = 1\n",
        "\n",
        "hours_list = []\n",
        "\n",
        "for key, val in hours.items():\n",
        "    hours_list.append((key, val))\n",
        "\n",
        "hours_list.sort()\n",
        "\n",
        "for key, value in hours_list:\n",
        "    print(f'{key} {value}')"
      ],
      "metadata": {
        "colab": {
          "base_uri": "https://localhost:8080/"
        },
        "id": "Jkb_SzTq4wxR",
        "outputId": "3356475d-0029-44fb-dd32-57fa9e9c7341"
      },
      "execution_count": 7,
      "outputs": [
        {
          "output_type": "stream",
          "name": "stdout",
          "text": [
            "Enter a file name: mbox-short.txt\n",
            "04 3\n",
            "06 1\n",
            "07 1\n",
            "09 2\n",
            "10 3\n",
            "11 6\n",
            "14 1\n",
            "15 2\n",
            "16 4\n",
            "17 2\n",
            "18 1\n",
            "19 1\n"
          ]
        }
      ]
    },
    {
      "cell_type": "markdown",
      "source": [
        "💡 Explanation:\n",
        "\n",
        "This program counts the distribution of messages by hour based on the \"From\" lines in an email log. It extracts the time string from each line, splits it at the colon to isolate the hour, and uses a dictionary to count how many times each hour appears. The dictionary is then sorted by hour, and the counts are printed in order. This demonstrates how to extract structured information from strings and summarize it using dictionaries and sorting."
      ],
      "metadata": {
        "id": "SG5BJXQU7o1Z"
      }
    },
    {
      "cell_type": "markdown",
      "source": [],
      "metadata": {
        "id": "mw8AplTp7s9-"
      }
    },
    {
      "cell_type": "markdown",
      "source": [
        "## 🧠 Exercise 3\n",
        "### Write a program that reads a file and prints the letters in decreasing order of frequency. Your program should convert all the input to lower case and only count the letters a-z. Your program should not count spaces, digits, punctuation, or anything other than the letters a-z. Find text samples from several different languages and see how letter frequency varies between languages. Compare your results with the tables at https://wikipedia.org/wiki/Letter_frequencies."
      ],
      "metadata": {
        "id": "wn8Rh8HM7weO"
      }
    },
    {
      "cell_type": "code",
      "source": [
        "import string"
      ],
      "metadata": {
        "id": "oNBZE3Wq8Ofz"
      },
      "execution_count": 8,
      "outputs": []
    },
    {
      "cell_type": "code",
      "source": [
        "input_file = input('Enter a file name: ')\n",
        "\n",
        "file_name = f\"/content/drive/My Drive/python-for-everybody/data/{input_file}\"\n",
        "\n",
        "fhand = open(file_name, 'r')\n",
        "\n",
        "frequency = {}\n",
        "\n",
        "for line in fhand:\n",
        "    line = line.translate(str.maketrans('','',string.punctuation+'1234567890'))\n",
        "    line = line.lower()\n",
        "    words = line.split()\n",
        "    for word in words:\n",
        "        letters = tuple(word)\n",
        "        for letter in letters:\n",
        "            if letter in frequency:\n",
        "                frequency[letter] += 1\n",
        "            else:\n",
        "                frequency[letter] = 1\n",
        "\n",
        "frequency_list = []\n",
        "\n",
        "for key, value in frequency.items():\n",
        "    frequency_list.append((value, key))\n",
        "\n",
        "frequency_list.sort(reverse=True)\n",
        "\n",
        "for count, letter in frequency_list:\n",
        "    print(f'{letter}: {count}')"
      ],
      "metadata": {
        "colab": {
          "base_uri": "https://localhost:8080/"
        },
        "id": "Gg7si-9-8Q-1",
        "outputId": "94734ccb-19e8-4475-a47f-e0739aa6c574"
      },
      "execution_count": 17,
      "outputs": [
        {
          "output_type": "stream",
          "name": "stdout",
          "text": [
            "Enter a file name: romeo.txt\n",
            "i: 14\n",
            "t: 12\n",
            "e: 12\n",
            "s: 11\n",
            "a: 11\n",
            "n: 9\n",
            "h: 9\n",
            "o: 8\n",
            "r: 7\n",
            "u: 6\n",
            "l: 6\n",
            "d: 6\n",
            "w: 5\n",
            "k: 3\n",
            "g: 3\n",
            "f: 3\n",
            "y: 2\n",
            "b: 2\n",
            "v: 1\n",
            "p: 1\n",
            "m: 1\n",
            "j: 1\n",
            "c: 1\n"
          ]
        }
      ]
    },
    {
      "cell_type": "markdown",
      "source": [
        "💡 Explanation:\n",
        "\n",
        "This program reads a text file and calculates the frequency of each letter from a–z, ignoring digits, punctuation, and other non-letter characters. It first removes unwanted characters using `str.translate()` and converts the text to lowercase. It then iterates through each character, counting only alphabetical letters using a dictionary. The frequency data is stored as `(count, letter)` tuples, sorted in descending order, and printed. This exercise demonstrates how to combine string processing, dictionaries, and sorting to perform character-level text analysis."
      ],
      "metadata": {
        "id": "rLGDCTHzAm8m"
      }
    },
    {
      "cell_type": "markdown",
      "source": [
        "# 📚 Summary – What I Learned from These Exercises\n",
        "\n",
        "In this chapter, I learned how to use tuples in combination with dictionaries to sort and analyze data. I practiced creating lists of tuples to represent key-value pairs, reversing the usual `(key, value)` structure to `(value, key)` in order to sort by count. I also worked with text processing tasks, extracting specific parts of strings and organizing data by frequency.\n",
        "\n",
        "These exercises reinforced important skills such as using `.items()` to loop through dictionaries, sorting with custom criteria, and applying string manipulation techniques to real-world text data. Together, they illustrated how tuples can enhance the flexibility and power of dictionary-based data analysis."
      ],
      "metadata": {
        "id": "qDvpueHIAsLi"
      }
    }
  ]
}