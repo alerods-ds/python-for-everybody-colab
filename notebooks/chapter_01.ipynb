{
  "nbformat": 4,
  "nbformat_minor": 0,
  "metadata": {
    "colab": {
      "provenance": [],
      "authorship_tag": "ABX9TyOI8Xy3szCDJ9h4yQYip+7r",
      "include_colab_link": true
    },
    "kernelspec": {
      "name": "python3",
      "display_name": "Python 3"
    },
    "language_info": {
      "name": "python"
    }
  },
  "cells": [
    {
      "cell_type": "markdown",
      "metadata": {
        "id": "view-in-github",
        "colab_type": "text"
      },
      "source": [
        "<a href=\"https://colab.research.google.com/github/alerods-ds/python-for-everybody-colab/blob/main/notebooks/chapter_01.ipynb\" target=\"_parent\"><img src=\"https://colab.research.google.com/assets/colab-badge.svg\" alt=\"Open In Colab\"/></a>"
      ]
    },
    {
      "cell_type": "markdown",
      "source": [
        "# 📘 Chapter 1: Why should you learn to write programs? - Exercises\n",
        "\n",
        "This notebook contains the solutions to the exercises from Chapter 1 of *Python for Everybody* by Charles Severance."
      ],
      "metadata": {
        "id": "vbBeg2gUTu-Y"
      }
    },
    {
      "cell_type": "markdown",
      "source": [
        "## 🧠 Exercise 1\n",
        "### What is the function of the secondary memory in a computer?\n",
        "\n",
        "a) Execute all of the computation and logic of the program <br>\n",
        "b) Retrieve web pages over the Internet <br>\n",
        "c) Store information for the long term, even beyond a power cycle <br>\n",
        "d) Take input from the user <br>\n",
        "\n",
        "✅ Answer: c) Store information for the long term, even beyond a power cycle\n",
        "\n",
        "💡 Explanation:\n",
        "Secondary memory (like hard drives or SSDs) is non-volatile storage, meaning it retains data even when the power is off. It’s used to store programs and data long-term."
      ],
      "metadata": {
        "id": "XDItlGonUgQ8"
      }
    },
    {
      "cell_type": "markdown",
      "source": [
        "## 🧠 Exercise 2\n",
        "### What is a program?\n",
        "\n",
        "✅ Answer:\n",
        "A program is a set of instructions that a computer follows to perform a specific task. Programs are written in programming languages and translated into machine language so the computer can execute them."
      ],
      "metadata": {
        "id": "61JKMsUDUyEn"
      }
    },
    {
      "cell_type": "markdown",
      "source": [
        "## 🧠 Exercise 3\n",
        "### What is the difference between a compiler and an interpreter?\n",
        "\n",
        "✅ Answer:\n",
        "A compiler translates the entire program into machine code before execution. An interpreter translates and executes code line-by-line. For instance, Python uses an interpreter. C or Java use a compiler.\n",
        "\n"
      ],
      "metadata": {
        "id": "0KqPs9mpVMHm"
      }
    },
    {
      "cell_type": "markdown",
      "source": [
        "## 🧠 Exercise 4\n",
        "### Which of the following contains “machine code”?\n",
        "\n",
        "a) The Python interpreter <br>\n",
        "b) The keyboard <br>\n",
        "c) Python source file <br>\n",
        "d) A word processing document <br>\n",
        "\n",
        "✅ Answer: a) The Python interpreter\n",
        "\n",
        "💡 Explanation:\n",
        "Machine code is binary code that a computer's CPU can execute directly. The Python interpreter is itself a program in machine code (often compiled from C), while the others are just data or text."
      ],
      "metadata": {
        "id": "PHSfuWYrVke8"
      }
    },
    {
      "cell_type": "markdown",
      "source": [
        "## 🧠 Exercise 5\n",
        "### What is wrong with the following code?\n",
        "\n",
        "```\n",
        ">>> primt 'Hello world!'\n",
        "File \"<stdin>\", line 1\n",
        "primt 'Hello world!'\n",
        "```"
      ],
      "metadata": {
        "id": "UX1JBt5OVtL3"
      }
    },
    {
      "cell_type": "code",
      "source": [
        ">>> primt 'Hello world!'\n",
        "File \"<stdin>\", line 1\n",
        "primt 'Hello world!'"
      ],
      "metadata": {
        "colab": {
          "base_uri": "https://localhost:8080/",
          "height": 106
        },
        "id": "nTe0R1veVz0W",
        "outputId": "d2737b37-fc75-4ce8-f8f2-a9939876c7c8"
      },
      "execution_count": 1,
      "outputs": [
        {
          "output_type": "error",
          "ename": "SyntaxError",
          "evalue": "invalid syntax (<ipython-input-1-1242456de252>, line 1)",
          "traceback": [
            "\u001b[0;36m  File \u001b[0;32m\"<ipython-input-1-1242456de252>\"\u001b[0;36m, line \u001b[0;32m1\u001b[0m\n\u001b[0;31m    primt 'Hello world!'\u001b[0m\n\u001b[0m          ^\u001b[0m\n\u001b[0;31mSyntaxError\u001b[0m\u001b[0;31m:\u001b[0m invalid syntax\n"
          ]
        }
      ]
    },
    {
      "cell_type": "markdown",
      "source": [
        "✅ Answer:\n",
        "There's a typo: primt should be print.\n",
        "\n",
        "💡 Explanation:\n",
        "Python raises a SyntaxError when it encounters invalid syntax. The function print() must be spelled correctly and used with parentheses in Python 3:"
      ],
      "metadata": {
        "id": "28Os-YP1WAQR"
      }
    },
    {
      "cell_type": "code",
      "source": [
        "print('Hello world!')"
      ],
      "metadata": {
        "colab": {
          "base_uri": "https://localhost:8080/"
        },
        "id": "w1VRoksGWHIW",
        "outputId": "cf995a3f-27a7-4dc2-bca7-e85e27d31071"
      },
      "execution_count": 2,
      "outputs": [
        {
          "output_type": "stream",
          "name": "stdout",
          "text": [
            "Hello world!\n"
          ]
        }
      ]
    },
    {
      "cell_type": "markdown",
      "source": [
        "## 🧠 Exercise 6\n",
        "### Where in the computer is a variable such as “x” stored after the following Python line finishes?\n",
        "```\n",
        "x = 123\n",
        "```\n",
        "a) Central processing unit <br>\n",
        "b) Main Memory <br>\n",
        "c) Secondary Memory <br>\n",
        "d) Input Devices <br>\n",
        "e) Output Devices <br>\n",
        "\n",
        "✅ Answer: b) Main Memory\n",
        "\n",
        "💡 Explanation:\n",
        "Variables are stored in main memory (RAM) while a program is running. They’re lost when the program ends or the computer shuts down."
      ],
      "metadata": {
        "id": "KwdFNAxmWK5g"
      }
    },
    {
      "cell_type": "markdown",
      "source": [
        "## 🧠 Exercise 7\n",
        "### What will the following program print out?\n",
        "```\n",
        "x = 43\n",
        "x = x + 1\n",
        "print(x)\n",
        "```"
      ],
      "metadata": {
        "id": "sSur36vkW8Yo"
      }
    },
    {
      "cell_type": "code",
      "source": [
        "x = 43\n",
        "x = x + 1\n",
        "print(x)"
      ],
      "metadata": {
        "colab": {
          "base_uri": "https://localhost:8080/"
        },
        "id": "baEB6HojY1oI",
        "outputId": "0dc91c03-cf73-4351-9c08-7487eb070fbf"
      },
      "execution_count": 3,
      "outputs": [
        {
          "output_type": "stream",
          "name": "stdout",
          "text": [
            "44\n"
          ]
        }
      ]
    },
    {
      "cell_type": "markdown",
      "source": [
        "a) 43 <br>\n",
        "b) 44 <br>\n",
        "c) x + 1 <br>\n",
        "d) Error because x = x + 1 is not possible mathematically <br>\n",
        "\n",
        "✅ Answer: b) 44\n",
        "\n",
        "💡 Explanation:\n",
        "This code adds 1 to the value of x (which was 43) and stores the result back in x. So print(x) shows 44."
      ],
      "metadata": {
        "id": "_Gig1cEOXDuO"
      }
    },
    {
      "cell_type": "markdown",
      "source": [
        "## 🧠 Exercise 8\n",
        "### Explain each of the following using a human capability:\n",
        "\n",
        "1. Central processing unit (CPU): Like the human brain — it makes decisions and performs calculations. <br>\n",
        "\n",
        "2. Main Memory (RAM): Like short-term memory — it temporarily stores information currently in use. <br>\n",
        "\n",
        "3. Secondary Memory: Like a notebook — it stores information permanently. <br>\n",
        "\n",
        "4. Input Device: Like the senses (eyes, ears) — they bring information into the system. <br>\n",
        "\n",
        "5. Output Device: Like the mouth or hands — they are used to communicate or act upon information.\n",
        "\n"
      ],
      "metadata": {
        "id": "YFiXTJSgXRu7"
      }
    },
    {
      "cell_type": "markdown",
      "source": [
        "## 🧠 Exercise 9\n",
        "### How do you fix a “Syntax Error”?\n",
        "\n",
        "✅ Answer:\n",
        "You fix a syntax error by carefully reviewing the code and correcting any mistakes in punctuation, keywords, or structure. Reading the error message, checking line numbers, and comparing to working examples helps identify the issue."
      ],
      "metadata": {
        "id": "-QObEeZPXdCz"
      }
    },
    {
      "cell_type": "markdown",
      "source": [
        "## 📚 Summary – What I Learned from These Exercises\n",
        "\n",
        "Working through the exercises in Chapter 1 of *Python for Everybody* helped me understand several foundational concepts about how computers work and what programming is all about. Here are the key takeaways:\n",
        "\n",
        "- I learned the basic components of a computer system.\n",
        "- I understood the difference between programs, compilers, and interpreters.\n",
        "- I became familiar with how variables work in Python and how they are stored in memory.\n",
        "- I reinforced my understanding of how Python code is executed step by step.\n",
        "- I practiced identifying syntax errors and learned how to fix them by carefully reading error messages.\n",
        "- I realized the importance of programming as a tool to automate tasks, solve problems, and communicate with a computer.\n",
        "\n",
        "These concepts are fundamental stepping stones for learning how to program, and they gave me a clearer picture of what happens \"under the hood\" when I write and run Python code."
      ],
      "metadata": {
        "id": "UMAPruiecL7t"
      }
    }
  ]
}