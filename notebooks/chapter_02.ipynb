{
  "nbformat": 4,
  "nbformat_minor": 0,
  "metadata": {
    "colab": {
      "provenance": [],
      "authorship_tag": "ABX9TyM5fFQlDS7+A3Qlqq075fq0",
      "include_colab_link": true
    },
    "kernelspec": {
      "name": "python3",
      "display_name": "Python 3"
    },
    "language_info": {
      "name": "python"
    }
  },
  "cells": [
    {
      "cell_type": "markdown",
      "metadata": {
        "id": "view-in-github",
        "colab_type": "text"
      },
      "source": [
        "<a href=\"https://colab.research.google.com/github/alerods-ds/python-for-everybody-colab/blob/main/notebooks/chapter_02.ipynb\" target=\"_parent\"><img src=\"https://colab.research.google.com/assets/colab-badge.svg\" alt=\"Open In Colab\"/></a>"
      ]
    },
    {
      "cell_type": "markdown",
      "source": [
        "# 📘 Chapter 2: Variables, expressions, and statements - Exercises\n",
        "\n",
        "This notebook contains the solutions to the exercises from Chapter 2 of *Python for Everybody* by Charles Severance.\n"
      ],
      "metadata": {
        "id": "0H-Bjw11e8Zq"
      }
    },
    {
      "cell_type": "markdown",
      "source": [
        "## 🧠 Exercise 1\n",
        "### Type the following statements in the Python interpreter to see what they do:\n",
        "\n",
        "```\n",
        "5\n",
        "x = 5\n",
        "x + 1\n",
        "```\n",
        "\n",
        "✅ Answer:"
      ],
      "metadata": {
        "id": "nbCSc7hvfHFs"
      }
    },
    {
      "cell_type": "code",
      "source": [
        "5"
      ],
      "metadata": {
        "colab": {
          "base_uri": "https://localhost:8080/"
        },
        "id": "DH2MqY3Nz8Vf",
        "outputId": "a359636c-3c1d-4336-dbf9-4d1a35a6d1be"
      },
      "execution_count": null,
      "outputs": [
        {
          "output_type": "execute_result",
          "data": {
            "text/plain": [
              "5"
            ]
          },
          "metadata": {},
          "execution_count": 1
        }
      ]
    },
    {
      "cell_type": "code",
      "source": [
        "x = 5"
      ],
      "metadata": {
        "id": "skS6WaKPz_x0"
      },
      "execution_count": null,
      "outputs": []
    },
    {
      "cell_type": "code",
      "source": [
        "x + 1"
      ],
      "metadata": {
        "colab": {
          "base_uri": "https://localhost:8080/"
        },
        "id": "BbG9lFOH0CcR",
        "outputId": "6985c5e4-3f44-4b21-934d-5198bce4cad8"
      },
      "execution_count": null,
      "outputs": [
        {
          "output_type": "execute_result",
          "data": {
            "text/plain": [
              "6"
            ]
          },
          "metadata": {},
          "execution_count": 3
        }
      ]
    },
    {
      "cell_type": "markdown",
      "source": [
        "💡 Explanation:\n",
        "\n",
        "The first line simply evaluates the number `5`, so Python returns 5.\n",
        "\n",
        "The second line assigns the value `5` to the variable `x`.\n",
        "\n",
        "The third line evaluates `x + 1`, which results in 6 because x is 5."
      ],
      "metadata": {
        "id": "CuuqtF-k2ZG3"
      }
    },
    {
      "cell_type": "markdown",
      "source": [
        "## 🧠 Exercise 2\n",
        "### Write a program that uses input to prompt a user for their name and then welcomes them.\n",
        "\n",
        "```\n",
        "Enter your name: Chuck\n",
        "Hello Chuck\n",
        "```\n",
        "\n",
        "✅ Answer:"
      ],
      "metadata": {
        "id": "x-qEsnBQ0FRH"
      }
    },
    {
      "cell_type": "code",
      "source": [
        "name = input('Enter your name: ')\n",
        "print('Hello', name)"
      ],
      "metadata": {
        "colab": {
          "base_uri": "https://localhost:8080/"
        },
        "id": "tKwcnTVd3cdO",
        "outputId": "dd2ced07-fb54-4029-e6ed-f50894a080eb"
      },
      "execution_count": null,
      "outputs": [
        {
          "output_type": "stream",
          "name": "stdout",
          "text": [
            "Enter your name: Alejandro\n",
            "Hello Alejandro\n"
          ]
        }
      ]
    },
    {
      "cell_type": "markdown",
      "source": [
        "💡 Explanation:\n",
        "\n",
        "The `input()` function displays the prompt `'Enter your name: '`, and waits for the user to type something. Whatever the user enters is returned as a string, even if it looks like a number. This string is stored in the variable `name`.\n",
        "\n",
        "Then, the `print()` function is used to display a greeting that includes the user's input."
      ],
      "metadata": {
        "id": "QBvtKFoU38pv"
      }
    },
    {
      "cell_type": "markdown",
      "source": [
        "## 🧠 Exercise 3\n",
        "### Write a program to prompt the user for hours and rate per hour to compute gross pay.\n",
        "\n",
        "```\n",
        "Enter Hours: 35\n",
        "Enter Rate: 2.75\n",
        "Pay: 96.25\n",
        "```\n",
        "We won’t worry about making sure our pay has exactly two digits after the decimal place for now. If you want, you can play with the built-in Python round function to properly round the resulting pay to two decimal places.\n",
        "\n",
        "✅ Answer:"
      ],
      "metadata": {
        "id": "zcL9Cw300rU0"
      }
    },
    {
      "cell_type": "code",
      "source": [
        "hours = float(input('Enter hours: '))\n",
        "rate = float(input('Enter rate: '))\n",
        "\n",
        "pay = hours * rate\n",
        "\n",
        "print('Pay:', pay)"
      ],
      "metadata": {
        "colab": {
          "base_uri": "https://localhost:8080/"
        },
        "id": "l-lRvUEL6nxm",
        "outputId": "2af34f22-2ad7-4727-c41b-3b4d67d51580"
      },
      "execution_count": null,
      "outputs": [
        {
          "output_type": "stream",
          "name": "stdout",
          "text": [
            "Enter hours: 35\n",
            "Enter rate: 2.75\n",
            "Pay: 96.25\n"
          ]
        }
      ]
    },
    {
      "cell_type": "markdown",
      "source": [
        "💡 Explanation:\n",
        "\n",
        "The `input()` function reads user input as a string. Since we want to perform a numeric calculation, we convert the input to floating-point numbers using `float().`\n",
        "\n",
        "Then we calculate the `pay` by multiplying the number of `hours` by the hourly `rate`, and print the result using `print().`\n",
        "\n",
        "Python will display the full result, even with many decimal places. In our case, the result happens to have exactly two decimal places, but what happens if, for instance, `hours = 35.75`?"
      ],
      "metadata": {
        "id": "Ci097MHb7JIP"
      }
    },
    {
      "cell_type": "code",
      "source": [
        "hours = float(input('Enter hours: '))\n",
        "rate = float(input('Enter rate: '))\n",
        "\n",
        "pay = hours * rate\n",
        "\n",
        "print('Pay:', pay)"
      ],
      "metadata": {
        "colab": {
          "base_uri": "https://localhost:8080/"
        },
        "id": "aaGEvRxI9lFW",
        "outputId": "3ce68454-5569-4138-b840-e98d4775c2bc"
      },
      "execution_count": null,
      "outputs": [
        {
          "output_type": "stream",
          "name": "stdout",
          "text": [
            "Enter hours: 35.75\n",
            "Enter rate: 2.75\n",
            "Pay: 98.3125\n"
          ]
        }
      ]
    },
    {
      "cell_type": "markdown",
      "source": [
        "In this case, the result has more than two decimal places. If we want to round the output to exactly two decimal places, we can use the built-in `round()` function:"
      ],
      "metadata": {
        "id": "Qc9pguuQ9wcq"
      }
    },
    {
      "cell_type": "code",
      "source": [
        "print('Pay:', round(pay, 2))"
      ],
      "metadata": {
        "colab": {
          "base_uri": "https://localhost:8080/"
        },
        "id": "7PIPNFJx910x",
        "outputId": "c5dd8373-6b9a-46bc-a4f8-212bd7ab9159"
      },
      "execution_count": null,
      "outputs": [
        {
          "output_type": "stream",
          "name": "stdout",
          "text": [
            "Pay: 98.31\n"
          ]
        }
      ]
    },
    {
      "cell_type": "markdown",
      "source": [
        "## 🧠 Exercise 4\n",
        "### Assume that we execute the following assignment statements:\n",
        "\n",
        "```\n",
        "width = 17\n",
        "height = 12.0\n",
        "```\n",
        "\n",
        "For each of the following expressions, write the value of the expression and the\n",
        "type (of the value of the expression).\n",
        "\n",
        "1. width//2\n",
        "2. width/2.0\n",
        "3. height/3\n",
        "4. 1 + 2 * 5\n",
        "\n",
        "Use the Python interpreter to check your answers.\n",
        "\n",
        "✅ Answer:\n",
        "\n",
        "| Expression     | Value | Type  |\n",
        "|----------------|-------|--------|\n",
        "| `width // 2`   | 8     | int    |\n",
        "| `width / 2.0`  | 8.5   | float  |\n",
        "| `height / 3`   | 4.0   | float  |\n",
        "| `1 + 2 * 5`    | 11    | int    |\n",
        "\n",
        "Check (in code):"
      ],
      "metadata": {
        "id": "DxBUW2pl05Bx"
      }
    },
    {
      "cell_type": "code",
      "source": [
        "width = 17\n",
        "height = 12.0"
      ],
      "metadata": {
        "id": "T6WlV5SYGSTb"
      },
      "execution_count": null,
      "outputs": []
    },
    {
      "cell_type": "code",
      "source": [
        "print(width // 2)\n",
        "type(width // 2)"
      ],
      "metadata": {
        "colab": {
          "base_uri": "https://localhost:8080/"
        },
        "id": "qosPwgWaGYlY",
        "outputId": "0cb7f48c-7186-4fa0-b1b5-766c72e51122"
      },
      "execution_count": null,
      "outputs": [
        {
          "output_type": "stream",
          "name": "stdout",
          "text": [
            "8\n"
          ]
        },
        {
          "output_type": "execute_result",
          "data": {
            "text/plain": [
              "int"
            ]
          },
          "metadata": {},
          "execution_count": 17
        }
      ]
    },
    {
      "cell_type": "code",
      "source": [
        "print(width / 2)\n",
        "type(width / 2)"
      ],
      "metadata": {
        "colab": {
          "base_uri": "https://localhost:8080/"
        },
        "id": "8ZeCbyZjGhUi",
        "outputId": "a90534a7-12b8-4614-df28-88facbde7692"
      },
      "execution_count": null,
      "outputs": [
        {
          "output_type": "stream",
          "name": "stdout",
          "text": [
            "8.5\n"
          ]
        },
        {
          "output_type": "execute_result",
          "data": {
            "text/plain": [
              "float"
            ]
          },
          "metadata": {},
          "execution_count": 18
        }
      ]
    },
    {
      "cell_type": "code",
      "source": [
        "print(height / 3)\n",
        "type(height / 3)"
      ],
      "metadata": {
        "colab": {
          "base_uri": "https://localhost:8080/"
        },
        "id": "LS4kL0oLGpBP",
        "outputId": "faff7fbe-34c2-4e1e-baa4-3ca9f12e290a"
      },
      "execution_count": null,
      "outputs": [
        {
          "output_type": "stream",
          "name": "stdout",
          "text": [
            "4.0\n"
          ]
        },
        {
          "output_type": "execute_result",
          "data": {
            "text/plain": [
              "float"
            ]
          },
          "metadata": {},
          "execution_count": 19
        }
      ]
    },
    {
      "cell_type": "code",
      "source": [
        "print(1 + 2 * 5)\n",
        "type(1 + 2 * 5)"
      ],
      "metadata": {
        "colab": {
          "base_uri": "https://localhost:8080/"
        },
        "id": "ftpmhJHjGvL9",
        "outputId": "69a44835-26b7-467d-a7f0-8cb7ea92cb3c"
      },
      "execution_count": null,
      "outputs": [
        {
          "output_type": "stream",
          "name": "stdout",
          "text": [
            "11\n"
          ]
        },
        {
          "output_type": "execute_result",
          "data": {
            "text/plain": [
              "int"
            ]
          },
          "metadata": {},
          "execution_count": 20
        }
      ]
    },
    {
      "cell_type": "markdown",
      "source": [
        "💡 Explanation:\n",
        "\n",
        "- `//` is the floor division operator. It performs division and discards any fractional part, returning an `int` if both operands are integers.\n",
        "\n",
        "- `/` is the regular division operator and always returns a `float`, even if the result is mathematically an integer.\n",
        "\n",
        "- In Python, operations involving a `float` and an `int` will result in a `float`.\n",
        "\n",
        "- The expression `1 + 2 * 5` respects **operator precedence**: multiplication happens before addition, so it's evaluated as `1 + (2 * 5) = 11`."
      ],
      "metadata": {
        "id": "E8AK54_4G6u6"
      }
    },
    {
      "cell_type": "markdown",
      "source": [
        "## 🧠 Exercise 5\n",
        "### Write a program which prompts the user for a Celsius temperature, convert the temperature to Fahrenheit, and print out the converted temperature.\n",
        "\n",
        "✅ Answer:\n",
        "\n",
        "The formula to convert Celsius temperature into Fahrenheit temperature is $$F = \\frac{9}{5}C + 32\\, ,$$ where $C$ is the Celsius temperature and $F$ is the Fahrenheit temperature. Using python, the program becomes"
      ],
      "metadata": {
        "id": "uFpCblob1pBr"
      }
    },
    {
      "cell_type": "code",
      "source": [
        "celsius = float(input('What is the temperature in Celsius?: '))\n",
        "\n",
        "fahrenheit = (celsius * 9/5) + 32\n",
        "\n",
        "print(f\"{celsius}°C is {round(fahrenheit, 2)}°F.\")"
      ],
      "metadata": {
        "colab": {
          "base_uri": "https://localhost:8080/"
        },
        "id": "yjk860zuKBVA",
        "outputId": "e453f05b-1a55-4e7c-e450-0276fa021fea"
      },
      "execution_count": null,
      "outputs": [
        {
          "output_type": "stream",
          "name": "stdout",
          "text": [
            "What is the temperature in Celsius?: 25.7\n",
            "25.7°C is 78.26°F.\n"
          ]
        }
      ]
    },
    {
      "cell_type": "markdown",
      "source": [
        "💡 Explanation:\n",
        "\n",
        "The `input()` function returns a string, so we use `float()` to convert it into a number. We then apply the standard formula to convert Celsius to Fahrenheit.\n",
        "\n",
        "Finally, we print the result using `round(fahrenheit, 2)` to round the result to two decimal places, and an f-string to format the output clearly:\n",
        "\n",
        "```python\n",
        "print(f\"{celsius}°C is {round(fahrenheit, 2)}°F\")\n",
        "```\n"
      ],
      "metadata": {
        "id": "rVXNmU7xLN_d"
      }
    },
    {
      "cell_type": "markdown",
      "source": [
        "# 📚 Summary – What I Learned from These Exercises\n",
        "In this chapter, I reviewed some of the most fundamental concepts in Python:\n",
        "\n",
        "**Variables:** I learned how to create variables using assignment statements, and how to store and reuse values in expressions.\n",
        "\n",
        "**Input and Output:** I practiced using the `input()` function to get user input, and the `print()` function to display results.\n",
        "\n",
        "**Data Types:** I explored how Python handles different types such as `int`, `float`, and `str`, and how operations behave depending on the types involved.\n",
        "\n",
        "**Type Conversion**: I learned how to convert strings to numbers using functions like `int()` and `float()` in order to perform calculations.\n",
        "\n",
        "**Arithmetic Operators**: I practiced using operators like `+`, `*`, `/`, and `//`, and understood the difference between normal division (`/`) and floor division (`//`).\n",
        "\n",
        "**Operator Precedence**: I saw how Python respects the standard order of operations, where multiplication is performed before addition unless parentheses are used.\n",
        "\n",
        "These exercises helped me reinforce my understanding of Python’s basic syntax and gave me the confidence to start writing small interactive programs. They also showed me the importance of careful type handling and output formatting when building user-friendly scripts.\n",
        "\n"
      ],
      "metadata": {
        "id": "oaqb3ArnDuRv"
      }
    }
  ]
}