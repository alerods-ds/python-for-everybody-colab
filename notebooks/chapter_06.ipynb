{
  "nbformat": 4,
  "nbformat_minor": 0,
  "metadata": {
    "colab": {
      "provenance": [],
      "authorship_tag": "ABX9TyNkl0adSorN9MjaH2D8ipuQ",
      "include_colab_link": true
    },
    "kernelspec": {
      "name": "python3",
      "display_name": "Python 3"
    },
    "language_info": {
      "name": "python"
    }
  },
  "cells": [
    {
      "cell_type": "markdown",
      "metadata": {
        "id": "view-in-github",
        "colab_type": "text"
      },
      "source": [
        "<a href=\"https://colab.research.google.com/github/alerods-ds/python-for-everybody-colab/blob/main/notebooks/chapter_06.ipynb\" target=\"_parent\"><img src=\"https://colab.research.google.com/assets/colab-badge.svg\" alt=\"Open In Colab\"/></a>"
      ]
    },
    {
      "cell_type": "markdown",
      "source": [
        "# 📘 Chapter 6: Strings - Exercises\n",
        "\n",
        "This notebook contains the solutions to the exercises from Chapter 6 of *Python for Everybody* by Charles Severance."
      ],
      "metadata": {
        "id": "idICyE8aFHY6"
      }
    },
    {
      "cell_type": "markdown",
      "source": [
        "## 🧠 Exercise 1\n",
        "### Write a while loop that starts at the last character in the string and works its way backwards to the first character in the string, printing each letter on a separate line, except backwards.\n",
        "\n",
        "✅ Answer:"
      ],
      "metadata": {
        "id": "RYMLBA35FNwh"
      }
    },
    {
      "cell_type": "code",
      "source": [
        "string = input('Enter a word: ')\n",
        "index = len(string) - 1\n",
        "\n",
        "while index >= 0:\n",
        "    letter = string[index]\n",
        "    print(letter)\n",
        "    index = index - 1"
      ],
      "metadata": {
        "colab": {
          "base_uri": "https://localhost:8080/"
        },
        "id": "gi1GakD4FcYY",
        "outputId": "801ecbbb-97ed-4094-80cb-7b7bcf484009"
      },
      "execution_count": 1,
      "outputs": [
        {
          "output_type": "stream",
          "name": "stdout",
          "text": [
            "Enter a word: albaricoque\n",
            "e\n",
            "u\n",
            "q\n",
            "o\n",
            "c\n",
            "i\n",
            "r\n",
            "a\n",
            "b\n",
            "l\n",
            "a\n"
          ]
        }
      ]
    },
    {
      "cell_type": "markdown",
      "source": [
        "💡 Explanation:\n",
        "\n",
        "This exercise asks for printing each character of a string on a separate line, but in reverse order. To do that, I used a `while` loop that starts at the last character and moves backwards to the first.\n",
        "\n",
        "I calculated the index of the last character using `len(string) - 1`, since Python string indices start at 0. Then, I looped while the index was greater than or equal to 0, printing `string[index]` in each iteration and subtracting 1 from the index afterward.\n",
        "\n",
        "This helped me practice working with string indices and using a `while` loop to iterate through a string in reverse—something that could be useful in many situations."
      ],
      "metadata": {
        "id": "mp5pWwvBGkq4"
      }
    },
    {
      "cell_type": "markdown",
      "source": [
        "## 🧠 Exercise 2\n",
        "### Given that fruit is a string, what does `fruit[:]` mean?\n",
        "\n",
        "✅ Answer:\n",
        "\n",
        "`fruit[:]` returns the entire string. It's equivalent to `fruit[0:len(fruit)]`. This syntax is useful for making a copy of the string or for using it in a slicing context without modifying the original variable."
      ],
      "metadata": {
        "id": "oLDYF2dcHZo3"
      }
    },
    {
      "cell_type": "markdown",
      "source": [
        "## 🧠 Exercise 3\n",
        "### Encapsulate this code in a function named `count`, and generalize it so that it accepts the string and the letter as arguments.\n",
        "\n",
        "```\n",
        "word = 'banana'\n",
        "count = 0\n",
        "for letter in word:\n",
        "    if letter == 'a':\n",
        "        count = count + 1\n",
        "print(count)\n",
        "```\n",
        "\n",
        "✅ Answer:"
      ],
      "metadata": {
        "id": "zn88rq1WIVIM"
      }
    },
    {
      "cell_type": "code",
      "source": [
        "def count(word,letter):\n",
        "    counter = 0\n",
        "    for value in word:\n",
        "        if value == letter:\n",
        "            counter = counter + 1\n",
        "    return counter\n",
        "\n",
        "print(count('banana','a'))"
      ],
      "metadata": {
        "colab": {
          "base_uri": "https://localhost:8080/"
        },
        "id": "TUMeiHW-JAfm",
        "outputId": "0090aada-4cd5-4cc4-9bc3-8f3320f4a6ed"
      },
      "execution_count": 3,
      "outputs": [
        {
          "output_type": "stream",
          "name": "stdout",
          "text": [
            "3\n"
          ]
        }
      ]
    },
    {
      "cell_type": "markdown",
      "source": [
        "💡 Explanation:\n",
        "\n",
        "In this exercise, I took a piece of code that counts how many times the letter `'a'` appears in the word `'banana'` and turned it into a reusable function called `count`.\n",
        "\n",
        "To generalize the code, I made the function take two parameters: `word` (the string to search in) and `letter` (the character to count). Inside the function, I used a `for` loop to go through each character in `word`. If the character matches letter, I increment a `counter` variable.\n",
        "\n",
        "This exercise helped me understand how to encapsulate code into a function, how to make it more flexible by using parameters, and how to count occurrences of a character in any string—not just `'banana'`."
      ],
      "metadata": {
        "id": "KEDkdVsYJD05"
      }
    },
    {
      "cell_type": "markdown",
      "source": [
        "## 🧠 Exercise 4\n",
        "### There is a string method called count that is similar to the functionin the previous exercise. Read the documentation of this method at:\n",
        "### https://docs.python.org/library/stdtypes.html#string-methods\n",
        "### Write an invocation that counts the number of times the letter `'a'` occurs in `'banana'`.\n",
        "\n",
        "✅ Answer:"
      ],
      "metadata": {
        "id": "M_efYLDFKVPn"
      }
    },
    {
      "cell_type": "code",
      "source": [
        "word = 'banana'\n",
        "number_of_a = word.count('a')\n",
        "print(number_of_a)"
      ],
      "metadata": {
        "colab": {
          "base_uri": "https://localhost:8080/"
        },
        "id": "NJuF2yI7K-tG",
        "outputId": "6331f19d-c521-4f28-9648-3acd9dabfe2b"
      },
      "execution_count": 4,
      "outputs": [
        {
          "output_type": "stream",
          "name": "stdout",
          "text": [
            "3\n"
          ]
        }
      ]
    },
    {
      "cell_type": "markdown",
      "source": [
        "💡 Explanation:\n",
        "\n",
        "In this exercise, I learned that Python strings have a built-in method called .`count()`, which can be used to count how many times a specific substring appears in a string. Instead of writing a custom function like in the previous exercise.\n",
        "\n",
        "This method goes through the string and returns how many times the character appears. It's a more concise and readable way to perform the same task, and it's good practice to use built-in methods when they are available, since they are usually optimized and easier to maintain."
      ],
      "metadata": {
        "id": "k5Sk8724LBED"
      }
    },
    {
      "cell_type": "markdown",
      "source": [
        "## 🧠 Exercise 5\n",
        "### Take the following Python code that stores a string:\n",
        "### `str = 'X-DSPAM-Confidence:0.8475'`\n",
        "### Use find and string slicing to extract the portion of the string after the colon character and then use the float function to convert the extracted string into a floating point number.\n",
        "\n",
        "✅ Answer:"
      ],
      "metadata": {
        "id": "0KrXGaVSLdMx"
      }
    },
    {
      "cell_type": "code",
      "source": [
        "data = 'X-DSPAM-Confidence:0.8475'\n",
        "\n",
        "position = data.find(':') + 1\n",
        "\n",
        "string = data[position:]\n",
        "\n",
        "number = float(string)\n",
        "\n",
        "print(number)"
      ],
      "metadata": {
        "colab": {
          "base_uri": "https://localhost:8080/"
        },
        "id": "SSrcDF1rL6eB",
        "outputId": "b7f4dbdf-a22a-4cda-f6c2-4fddad3d26b8"
      },
      "execution_count": 7,
      "outputs": [
        {
          "output_type": "stream",
          "name": "stdout",
          "text": [
            "0.8475\n"
          ]
        }
      ]
    },
    {
      "cell_type": "markdown",
      "source": [
        "💡 Explanation:\n",
        "\n",
        "In this exercise, I used the string method `.find()` to locate the position of a specific character—in this case, the first character after the colon in the string. I found its position with `data.find(':') + 1`.\n",
        "\n",
        "Then, I used string slicing to extract the substring starting at that position until the end of the string: `data[position:]`. This gave me the numeric part as a string.\n",
        "\n",
        "Finally, I converted this substring to a floating-point number using the `float()` function. This process allowed me to extract and convert numerical data embedded inside a string, which is a common task when parsing text data.\n",
        "\n",
        "\n",
        "\n",
        "\n",
        "\n"
      ],
      "metadata": {
        "id": "63lFgS23MVCq"
      }
    },
    {
      "cell_type": "markdown",
      "source": [
        "# 📚 Summary – What I Learned from These Exercises\n",
        "\n",
        "- How to use string methods like `.find()` and `.count()` to locate characters and count occurrences within strings.\n",
        "\n",
        "- How to extract substrings using string slicing based on positions found dynamically.\n",
        "\n",
        "- How to convert extracted substrings into appropriate data types like floats.\n",
        "\n",
        "- Practical experience with parsing structured text data and manipulating strings to isolate useful information."
      ],
      "metadata": {
        "id": "9FXxRlpoNDDE"
      }
    }
  ]
}