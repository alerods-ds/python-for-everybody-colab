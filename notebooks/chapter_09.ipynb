{
  "nbformat": 4,
  "nbformat_minor": 0,
  "metadata": {
    "colab": {
      "provenance": [],
      "mount_file_id": "1_maOJms4zPERQrcGTfPZX8Nc_jISTrOM",
      "authorship_tag": "ABX9TyMe5ihfIts1XdDVibKLagmN",
      "include_colab_link": true
    },
    "kernelspec": {
      "name": "python3",
      "display_name": "Python 3"
    },
    "language_info": {
      "name": "python"
    }
  },
  "cells": [
    {
      "cell_type": "markdown",
      "metadata": {
        "id": "view-in-github",
        "colab_type": "text"
      },
      "source": [
        "<a href=\"https://colab.research.google.com/github/alerods-ds/python-for-everybody-colab/blob/main/notebooks/chapter_09.ipynb\" target=\"_parent\"><img src=\"https://colab.research.google.com/assets/colab-badge.svg\" alt=\"Open In Colab\"/></a>"
      ]
    },
    {
      "cell_type": "markdown",
      "source": [
        "# 📘 Chapter 9: Dictionaries - Exercises\n",
        "\n",
        "This notebook contains the solutions to the exercises from Chapter 9 of *Python for Everybody* by Charles Severance."
      ],
      "metadata": {
        "id": "wO52k2cKpHdQ"
      }
    },
    {
      "cell_type": "markdown",
      "source": [
        "## 🧠 Exercise 1\n",
        "### Download a copy of the file www.py4e.com/code3/words.txt\n",
        "### Write a program that reads the words in *words.txt* and stores them as keys in a dictionary. It doesn’t matter what the values are. Then you can use the `in` operator as a fast way to check whether a string is in the dictionary.\n",
        "\n",
        "✅ Answer:"
      ],
      "metadata": {
        "id": "fD0lu4_JpO5f"
      }
    },
    {
      "cell_type": "code",
      "source": [
        "fhand = open('/content/drive/My Drive/python-for-everybody/data/words.txt', 'r')\n",
        "\n",
        "words_dict = {}\n",
        "\n",
        "for line in fhand:\n",
        "    words = line.split()\n",
        "    for word in words:\n",
        "        words_dict[word] = True\n",
        "\n",
        "print(words_dict)"
      ],
      "metadata": {
        "colab": {
          "base_uri": "https://localhost:8080/"
        },
        "id": "IHJtUqpS9cHl",
        "outputId": "76b7932b-3e02-406e-9cb5-2f9b7a137baf"
      },
      "execution_count": 2,
      "outputs": [
        {
          "output_type": "stream",
          "name": "stdout",
          "text": [
            "{'Writing': True, 'programs': True, 'or': True, 'programming': True, 'is': True, 'a': True, 'very': True, 'creative': True, 'and': True, 'rewarding': True, 'activity': True, 'You': True, 'can': True, 'write': True, 'for': True, 'many': True, 'reasons': True, 'ranging': True, 'from': True, 'making': True, 'your': True, 'living': True, 'to': True, 'solving': True, 'difficult': True, 'data': True, 'analysis': True, 'problem': True, 'having': True, 'fun': True, 'helping': True, 'someone': True, 'else': True, 'solve': True, 'This': True, 'book': True, 'assumes': True, 'that': True, '{\\\\em': True, 'everyone}': True, 'needs': True, 'know': True, 'how': True, 'program': True, 'once': True, 'you': True, 'program,': True, 'will': True, 'figure': True, 'out': True, 'what': True, 'want': True, 'do': True, 'with': True, 'newfound': True, 'skills': True, 'We': True, 'are': True, 'surrounded': True, 'in': True, 'our': True, 'daily': True, 'lives': True, 'computers': True, 'laptops': True, 'cell': True, 'phones': True, 'think': True, 'of': True, 'these': True, 'as': True, 'personal': True, 'assistants': True, 'who': True, 'take': True, 'care': True, 'things': True, 'on': True, 'behalf': True, 'The': True, 'hardware': True, 'current-day': True, 'essentially': True, 'built': True, 'continuously': True, 'ask': True, 'us': True, 'the': True, 'question': True, 'What': True, 'would': True, 'like': True, 'me': True, 'next': True, 'Our': True, 'fast': True, 'have': True, 'vasts': True, 'amounts': True, 'memory': True, 'could': True, 'be': True, 'helpful': True, 'if': True, 'we': True, 'only': True, 'knew': True, 'language': True, 'speak': True, 'explain': True, 'computer': True, 'it': True, 'If': True, 'this': True, 'tell': True, 'tasks': True, 'were': True, 'reptitive': True, 'Interestingly,': True, 'kinds': True, 'best': True, 'often': True, 'humans': True, 'find': True, 'boring': True, 'mind-numbing': True}\n"
          ]
        }
      ]
    },
    {
      "cell_type": "markdown",
      "source": [
        "💡 Explanation:\n",
        "\n",
        "This program reads the contents of a text file and stores each word as a key in a dictionary. Since dictionary keys must be unique, repeated words are automatically ignored. The values in the dictionary are arbitrary — in this case, we simply assign `True`, because only the existence of the key matters. Using a dictionary in this way enables fast lookup operations with the `in` operator, allowing us to efficiently check if a given word appears in the file. This demonstrates a common use case of dictionaries for fast membership testing."
      ],
      "metadata": {
        "id": "vOgs2hV0-58K"
      }
    },
    {
      "cell_type": "markdown",
      "source": [
        "## 🧠 Exercise 2\n",
        "### Write a program that categorizes each mail message by which day of the week the commit was done. To do this look for lines that start with “From”, then look for the third word and keep a running count of each of the days of the week. At the end of the program print out the contents of your dictionary (order does not matter).\n",
        "\n",
        "### Sample Line:\n",
        "```\n",
        "From stephen.marquard@uct.ac.za Sat Jan 5 09:14:16 2008\n",
        "```\n",
        "### Sample Execution:\n",
        "```\n",
        "python dow.py\n",
        "Enter a file name: mbox-short.txt\n",
        "{'Fri': 20, 'Thu': 6, 'Sat': 1}\n",
        "```\n",
        "\n",
        "✅ Answer:"
      ],
      "metadata": {
        "id": "DCQ_rQYD_sLw"
      }
    },
    {
      "cell_type": "code",
      "source": [
        "input_file = input('Enter a file name: ')\n",
        "\n",
        "file_name = f\"/content/drive/My Drive/python-for-everybody/data/{input_file}\"\n",
        "\n",
        "fhand = open(file_name, 'r')\n",
        "\n",
        "days = {}\n",
        "\n",
        "for line in fhand:\n",
        "    words = line.split()\n",
        "    if len(words) < 3 or words[0] != 'From': continue\n",
        "    if words[2] in days:\n",
        "        days[words[2]] += 1\n",
        "    else:\n",
        "        days[words[2]] = 1\n",
        "\n",
        "print(days)"
      ],
      "metadata": {
        "colab": {
          "base_uri": "https://localhost:8080/"
        },
        "id": "oBEKifS4RvW2",
        "outputId": "7f016dc0-272d-4c3d-9889-cb1a4c2ed6c1"
      },
      "execution_count": 3,
      "outputs": [
        {
          "output_type": "stream",
          "name": "stdout",
          "text": [
            "Enter a file name: mbox-short.txt\n",
            "{'Sat': 1, 'Fri': 20, 'Thu': 6}\n"
          ]
        }
      ]
    },
    {
      "cell_type": "markdown",
      "source": [
        "💡 Explanation:\n",
        "\n",
        "This program counts how many email messages were sent on each day of the week. It looks for lines starting with `\"From\"` and extracts the third word, which represents the day. Each day is used as a key in a dictionary, with its value tracking the count. The result is a frequency table of messages by weekday, illustrating how to use dictionaries for simple text-based data analysis."
      ],
      "metadata": {
        "id": "Y-5kEfZoTHMf"
      }
    },
    {
      "cell_type": "markdown",
      "source": [
        "## 🧠 Exercise 3\n",
        "### Write a program to read through a mail log, build a histogram using a dictionary to count how many messages have come from each email address, and print the dictionary.\n",
        "\n",
        "```\n",
        "Enter file name: mbox-short.txt\n",
        "{'gopal.ramasammycook@gmail.com': 1, 'louis@media.berkeley.edu': 3,\n",
        "'cwen@iupui.edu': 5, 'antranig@caret.cam.ac.uk': 1,\n",
        "'rjlowe@iupui.edu': 2, 'gsilver@umich.edu': 3,\n",
        "'david.horwitz@uct.ac.za': 4, 'wagnermr@iupui.edu': 1,\n",
        "'zqian@umich.edu': 4, 'stephen.marquard@uct.ac.za': 2,\n",
        "'ray@media.berkeley.edu': 1}\n",
        "```\n",
        "\n",
        "✅ Answer:"
      ],
      "metadata": {
        "id": "76XZREX7Thvg"
      }
    },
    {
      "cell_type": "code",
      "source": [
        "input_file = input('Enter a file name: ')\n",
        "\n",
        "file_name = f\"/content/drive/My Drive/python-for-everybody/data/{input_file}\"\n",
        "\n",
        "fhand = open(file_name, 'r')\n",
        "\n",
        "email_addresses = {}\n",
        "\n",
        "for line in fhand:\n",
        "    words = line.split()\n",
        "    if len(words) < 2 or words[0] != 'From': continue\n",
        "    if words[1] in email_addresses:\n",
        "        email_addresses[words[1]] += 1\n",
        "    else:\n",
        "        email_addresses[words[1]] = 1\n",
        "\n",
        "print(email_addresses)"
      ],
      "metadata": {
        "colab": {
          "base_uri": "https://localhost:8080/"
        },
        "id": "HahoGZxZS5FQ",
        "outputId": "46e84f51-7d98-4727-aec4-e34b31084740"
      },
      "execution_count": 4,
      "outputs": [
        {
          "output_type": "stream",
          "name": "stdout",
          "text": [
            "Enter a file name: mbox-short.txt\n",
            "{'stephen.marquard@uct.ac.za': 2, 'louis@media.berkeley.edu': 3, 'zqian@umich.edu': 4, 'rjlowe@iupui.edu': 2, 'cwen@iupui.edu': 5, 'gsilver@umich.edu': 3, 'wagnermr@iupui.edu': 1, 'antranig@caret.cam.ac.uk': 1, 'gopal.ramasammycook@gmail.com': 1, 'david.horwitz@uct.ac.za': 4, 'ray@media.berkeley.edu': 1}\n"
          ]
        }
      ]
    },
    {
      "cell_type": "markdown",
      "source": [
        "💡 Explanation:\n",
        "\n",
        "This program reads an email log file and builds a histogram of how many messages were sent from each email address. It processes lines that start with `\"From\"` and extracts the second word, which is the sender’s email. These addresses are used as dictionary keys, with their corresponding values counting how many times each one appears. The result is a frequency dictionary showing the distribution of senders in the dataset."
      ],
      "metadata": {
        "id": "YCjlmLSgU2Xx"
      }
    },
    {
      "cell_type": "markdown",
      "source": [
        "## 🧠 Exercise 4\n",
        "### Add code to the above program to figure out who has the most messages in the file. After all the data has been read and the dictionary has been created, look through the dictionary using a maximum loop (see Chapter 5: Maximum and minimum loops) to find who has the most messages and print how many messages the person has.\n",
        "\n",
        "```\n",
        "Enter a file name: mbox-short.txt\n",
        "cwen@iupui.edu 5\n",
        "\n",
        "Enter a file name: mbox.txt\n",
        "zqian@umich.edu 195\n",
        "```\n",
        "\n",
        "✅ Answer:"
      ],
      "metadata": {
        "id": "BF6OhcxVU8tL"
      }
    },
    {
      "cell_type": "code",
      "source": [
        "input_file = input('Enter a file name: ')\n",
        "\n",
        "file_name = f\"/content/drive/My Drive/python-for-everybody/data/{input_file}\"\n",
        "\n",
        "fhand = open(file_name, 'r')\n",
        "\n",
        "email_addresses = {}\n",
        "\n",
        "for line in fhand:\n",
        "    words = line.split()\n",
        "    if len(words) < 2 or words[0] != 'From': continue\n",
        "    if words[1] in email_addresses:\n",
        "        email_addresses[words[1]] += 1\n",
        "    else:\n",
        "        email_addresses[words[1]] = 1\n",
        "\n",
        "max_count = None\n",
        "max_sender = None\n",
        "\n",
        "for email in email_addresses:\n",
        "    if max_count is None or email_addresses[email] > max_count:\n",
        "        max_count = email_addresses[email]\n",
        "        max_sender = email\n",
        "\n",
        "print(f'The email address that sent the most messages is {max_sender}, with a total of {max_count}.')"
      ],
      "metadata": {
        "colab": {
          "base_uri": "https://localhost:8080/"
        },
        "id": "4oCnfSAAVQlN",
        "outputId": "df724ef3-9ee1-4b0f-fdf3-c29957b5b2e8"
      },
      "execution_count": 7,
      "outputs": [
        {
          "output_type": "stream",
          "name": "stdout",
          "text": [
            "Enter a file name: mbox.txt\n",
            "The email address that sent the most messages is zqian@umich.edu, with a total of 195.\n"
          ]
        }
      ]
    },
    {
      "cell_type": "markdown",
      "source": [
        "💡 Explanation:\n",
        "\n",
        "This program builds on the previous exercise by not only counting how many messages each email address sent, but also determining which address sent the most. It uses a maximum loop to iterate through the dictionary of email counts, comparing each value to the current maximum. If a larger value is found, the corresponding email address and count are stored. At the end, it prints the address with the highest message count. This exercise reinforces how to use dictionaries for aggregation and how to extract the maximum value from a key-value mapping."
      ],
      "metadata": {
        "id": "teuiqsmJYe7p"
      }
    },
    {
      "cell_type": "markdown",
      "source": [
        "## 🧠 Exercise 5\n",
        "### This program records the domain name (instead of the address) where the message was sent from instead of who the mail came from (i.e., the whole email address). At the end of the program, print out the contents of your dictionary.\n",
        "```\n",
        "python schoolcount.py\n",
        "Enter a file name: mbox-short.txt\n",
        "{'media.berkeley.edu': 4, 'uct.ac.za': 6, 'umich.edu': 7,\n",
        "'gmail.com': 1, 'caret.cam.ac.uk': 1, 'iupui.edu': 8}\n",
        "```\n",
        "\n",
        "✅ Answer:"
      ],
      "metadata": {
        "id": "MC2Sa30LYi71"
      }
    },
    {
      "cell_type": "code",
      "source": [
        "input_file = input('Enter a file name: ')\n",
        "\n",
        "file_name = f\"/content/drive/My Drive/python-for-everybody/data/{input_file}\"\n",
        "\n",
        "fhand = open(file_name, 'r')\n",
        "\n",
        "email_addresses = {}\n",
        "\n",
        "for line in fhand:\n",
        "    words = line.split()\n",
        "    if len(words) < 2 or words[0] != 'From': continue\n",
        "\n",
        "    domain = words[1].split('@')[1]\n",
        "\n",
        "    if domain in email_addresses:\n",
        "        email_addresses[domain] += 1\n",
        "    else:\n",
        "        email_addresses[domain] = 1\n",
        "\n",
        "print(email_addresses)"
      ],
      "metadata": {
        "colab": {
          "base_uri": "https://localhost:8080/"
        },
        "id": "0ho_8YlmY1NF",
        "outputId": "7c153e11-06ae-4437-d84b-b7efbe78c717"
      },
      "execution_count": 10,
      "outputs": [
        {
          "output_type": "stream",
          "name": "stdout",
          "text": [
            "Enter a file name: mbox-short.txt\n",
            "{'uct.ac.za': 6, 'media.berkeley.edu': 4, 'umich.edu': 7, 'iupui.edu': 8, 'caret.cam.ac.uk': 1, 'gmail.com': 1}\n"
          ]
        }
      ]
    },
    {
      "cell_type": "markdown",
      "source": [
        "💡 Explanation:\n",
        "\n",
        "This program analyzes an email log and counts how many messages came from each domain. It processes lines that start with `\"From\"` and extracts the email address (the second word). Then it uses `split('@')` to isolate the domain part of the address. Each domain is stored as a key in a dictionary, with its value representing the number of times it appears. This approach is useful for identifying which email providers or organizations are most active in the dataset."
      ],
      "metadata": {
        "id": "KXShh8vjanwk"
      }
    },
    {
      "cell_type": "markdown",
      "source": [
        "# 📚 Summary – What I Learned from These Exercises\n",
        "\n",
        "In this chapter, I deepened my understanding of Python dictionaries and how they can be used to count, categorize, and analyze data efficiently. I learned how to extract relevant parts of structured text—such as email addresses or domains—and store them as keys in a dictionary with associated counts. I also practiced using maximum loops to identify the most frequent entries and saw how dictionaries enable fast membership tests.\n",
        "\n",
        "These exercises showed how to process real-world datasets, such as email logs, by combining string manipulation, conditionals, and dictionary-based aggregation. This is a powerful pattern for building simple but effective data analysis tools.\n"
      ],
      "metadata": {
        "id": "c1DUy3S6atpC"
      }
    }
  ]
}