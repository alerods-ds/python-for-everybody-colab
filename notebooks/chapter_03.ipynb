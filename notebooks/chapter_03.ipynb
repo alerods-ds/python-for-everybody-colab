{
  "nbformat": 4,
  "nbformat_minor": 0,
  "metadata": {
    "colab": {
      "provenance": [],
      "authorship_tag": "ABX9TyMATsrG5b5kJ0vfe0p5GpkD",
      "include_colab_link": true
    },
    "kernelspec": {
      "name": "python3",
      "display_name": "Python 3"
    },
    "language_info": {
      "name": "python"
    }
  },
  "cells": [
    {
      "cell_type": "markdown",
      "metadata": {
        "id": "view-in-github",
        "colab_type": "text"
      },
      "source": [
        "<a href=\"https://colab.research.google.com/github/alerods-ds/python-for-everybody-colab/blob/main/notebooks/chapter_03.ipynb\" target=\"_parent\"><img src=\"https://colab.research.google.com/assets/colab-badge.svg\" alt=\"Open In Colab\"/></a>"
      ]
    },
    {
      "cell_type": "markdown",
      "source": [
        "# 📘 Chapter 3: Conditional execution - Exercises\n",
        "\n",
        "This notebook contains the solutions to the exercises from Chapter 3 of *Python for Everybody* by Charles Severance."
      ],
      "metadata": {
        "id": "5Xq1RVRfIfoc"
      }
    },
    {
      "cell_type": "markdown",
      "source": [
        "## 🧠 Exercise 1\n",
        "###  Rewrite your pay computation to give the employee 1.5 times the hourly rate for hours worked above 40 hours.\n",
        "\n",
        "```\n",
        "Enter Hours: 45\n",
        "Enter Rate: 10\n",
        "Pay: 475.0\n",
        "```\n",
        "\n",
        "✅ Answer:"
      ],
      "metadata": {
        "id": "sZ5oepPaIn-o"
      }
    },
    {
      "cell_type": "code",
      "source": [
        "hours = float(input('Enter hours: '))\n",
        "rate = float(input('Enter rate: '))\n",
        "\n",
        "if hours > 40:\n",
        "    extra_hours = hours - 40\n",
        "    pay = (40 * rate) + (extra_hours * rate * 1.5)\n",
        "else:\n",
        "    pay = hours * rate\n",
        "\n",
        "print('Pay:', pay)"
      ],
      "metadata": {
        "colab": {
          "base_uri": "https://localhost:8080/"
        },
        "id": "AFqiyEqayZHh",
        "outputId": "5a5dd63d-0274-4d21-e1e9-b20433af2c7a"
      },
      "execution_count": 1,
      "outputs": [
        {
          "output_type": "stream",
          "name": "stdout",
          "text": [
            "Enter hours: 45\n",
            "Enter rate: 10\n",
            "Pay: 475.0\n"
          ]
        }
      ]
    },
    {
      "cell_type": "markdown",
      "source": [
        "💡 Explanation:\n",
        "\n",
        "We use the `input()` function to prompt the user for the number of hours worked and the hourly rate. Since `input()` returns a string, we use `float()` to convert the input to numbers so we can do arithmetic.\n",
        "\n",
        "To handle overtime, we check if the number of hours is greater than 40. If so, we calculate:\n",
        "\n",
        "- Regular pay for the first 40 hours\n",
        "- Extra pay for hours above 40 at 1.5 times the regular rate\n",
        "\n",
        "Then we add both parts to get the total pay.\n",
        "\n",
        "Finally, we print the result."
      ],
      "metadata": {
        "id": "z36AZAp4y-tw"
      }
    },
    {
      "cell_type": "markdown",
      "source": [
        "## 🧠 Exercise 2\n",
        "###  Rewrite your pay program using try and except so that your program handles non-numeric input gracefully by printing a message and exiting the program. The following shows two executions of the program:\n",
        "\n",
        "```\n",
        "Enter Hours: 20\n",
        "Enter Rate: nine\n",
        "Error, please enter numeric input\n",
        "```\n",
        "```\n",
        "Enter Hours: forty\n",
        "Error, please enter numeric input\n",
        "```\n",
        "\n",
        "✅ Answer:"
      ],
      "metadata": {
        "id": "vti6KL5WI18w"
      }
    },
    {
      "cell_type": "code",
      "source": [
        "try:\n",
        "    hours = float(input('Enter hours: '))\n",
        "    rate = float(input('Enter rate: '))\n",
        "    if hours > 40:\n",
        "        extra_hours = hours - 40\n",
        "        pay = (40 * rate) + (extra_hours * rate * 1.5)\n",
        "    else:\n",
        "        pay = hours * rate\n",
        "    print('Pay:', pay)\n",
        "except:\n",
        "    print('Error, please enter numeric input')"
      ],
      "metadata": {
        "colab": {
          "base_uri": "https://localhost:8080/"
        },
        "id": "sLxR3MyVANlx",
        "outputId": "6b9dbdc1-7c7b-4fb9-bc59-bf54c96f5443"
      },
      "execution_count": 2,
      "outputs": [
        {
          "output_type": "stream",
          "name": "stdout",
          "text": [
            "Enter hours: 20\n",
            "Enter rate: nine\n",
            "Error, please enter numeric input\n"
          ]
        }
      ]
    },
    {
      "cell_type": "markdown",
      "source": [
        "💡 Explanation:\n",
        "\n",
        "We use a `try/except` block to catch invalid input. The `input()` function always returns a string, so we use `float()` to convert it to a number. But if the user enters something that can't be converted to a float (like 'nine' or 'forty'), Python raises an error.\n",
        "\n",
        "Using `try`, we attempt to convert the inputs and compute the pay. If any error occurs during conversion, the `except` block catches it and prints a friendly message instead of crashing the program.\n",
        "\n",
        "This helps make the program more robust and user-friendly."
      ],
      "metadata": {
        "id": "vx_JTuuAA1ce"
      }
    },
    {
      "cell_type": "markdown",
      "source": [
        "## 🧠 Exercise 3\n",
        "### Write a program to prompt for a score between 0.0 and 1.0. If the score is out of range, print an error message. If the score is between 0.0 and 1.0, print a grade using the following table:\n",
        "\n",
        "| Score  | Grade |\n",
        "|--------|-------|\n",
        "| >= 0.9 | A     |\n",
        "| >= 0.8 | B     |\n",
        "| >= 0.7 | C     |\n",
        "| >= 0.6 | D     |\n",
        "| < 0.6  | F     |\n",
        "\n",
        "```\n",
        "Enter score: 0.95\n",
        "A\n",
        "Enter score: perfect\n",
        "Bad score\n",
        "Enter score: 10.0\n",
        "Bad score\n",
        "Enter score: 0.75\n",
        "C\n",
        "Enter score: 0.5\n",
        "F\n",
        "```\n",
        "Run the program repeatedly as shown above to test the various different values for input.\n",
        "\n",
        "✅ Answer:"
      ],
      "metadata": {
        "id": "XkEhAD29JMKH"
      }
    },
    {
      "cell_type": "code",
      "source": [
        "try:\n",
        "    score = float(input('Enter a score between 0.0 and 1.0: '))\n",
        "    if score < 0.0 or score > 1.0:\n",
        "        print('Bad score')\n",
        "    elif score >= 0.9:\n",
        "        print('A')\n",
        "    elif score >= 0.8:\n",
        "        print('B')\n",
        "    elif score >= 0.7:\n",
        "        print('C')\n",
        "    elif score >= 0.6:\n",
        "        print('D')\n",
        "    else:\n",
        "        print('F')\n",
        "except:\n",
        "    print('Bad score')"
      ],
      "metadata": {
        "colab": {
          "base_uri": "https://localhost:8080/"
        },
        "id": "T6kLz9Y8BhqC",
        "outputId": "b2fa1059-350d-4e04-884e-fa82058f2d37"
      },
      "execution_count": 7,
      "outputs": [
        {
          "output_type": "stream",
          "name": "stdout",
          "text": [
            "Enter a score between 0.0 and 1.0: 0.5\n",
            "F\n"
          ]
        }
      ]
    },
    {
      "cell_type": "markdown",
      "source": [
        "💡 Explanation:\n",
        "\n",
        "We use a `try/except` block to handle invalid input. The `float()` function may raise an error if the user enters something like \"perfect\" instead of a number.\n",
        "\n",
        "Then, we check whether the number is between 0.0 and 1.0. If it's outside that range, we print `'Bad score'`.\n",
        "\n",
        "If the number is valid, we use `if/elif/else` statements to assign a letter grade based on the value. Note that the conditions are checked in decreasing order (from A to F), so the first match is used.\n",
        "\n",
        "This makes the program both safe and user-friendly, as it avoids crashes and gives clear feedback."
      ],
      "metadata": {
        "id": "I2JPjwUDDEmL"
      }
    },
    {
      "cell_type": "markdown",
      "source": [
        "# 📚 Summary – What I Learned from These Exercises\n",
        "\n",
        "In Chapter 3, I practiced how to use conditional statements and basic error handling in Python. These exercises helped reinforce the following concepts:\n",
        "\n",
        "- **`if`, `elif`, and `else` statements**: I learned how to structure branching logic to handle different situations based on user input, such as computing overtime pay or assigning letter grades based on numerical scores.\n",
        "  \n",
        "- **Comparison operators**: I gained practice using `>`, `<`, `>=`, `<=`, and logical conditions (`and`, `or`) to control program flow.\n",
        "\n",
        "- **`try` and `except` blocks**: I learned how to write programs that can gracefully handle invalid user input without crashing. This is essential for building robust and user-friendly applications.\n",
        "\n",
        "- **Type conversion and input validation**: I practiced converting user input from strings to floating-point numbers using `float()`, and validating that input is within expected ranges (e.g., between `0.0` and `1.0`).\n",
        "\n",
        "- **Code clarity and readability**: I also learned how small improvements—like checking for invalid input first or simplifying conditional logic—can make code more readable and efficient.\n",
        "\n",
        "These concepts are foundational to programming, and mastering them will help me tackle more complex problems with confidence.\n"
      ],
      "metadata": {
        "id": "iXCHUE04DQbm"
      }
    }
  ]
}