{
  "nbformat": 4,
  "nbformat_minor": 0,
  "metadata": {
    "colab": {
      "provenance": [],
      "mount_file_id": "1eyAVbOqaXfYp060XCI_qkCyMY7fgcwuH",
      "authorship_tag": "ABX9TyPNalWrJ0fHfGPy17jQFSwZ",
      "include_colab_link": true
    },
    "kernelspec": {
      "name": "python3",
      "display_name": "Python 3"
    },
    "language_info": {
      "name": "python"
    }
  },
  "cells": [
    {
      "cell_type": "markdown",
      "metadata": {
        "id": "view-in-github",
        "colab_type": "text"
      },
      "source": [
        "<a href=\"https://colab.research.google.com/github/alerods-ds/python-for-everybody-colab/blob/main/notebooks/chapter_08.ipynb\" target=\"_parent\"><img src=\"https://colab.research.google.com/assets/colab-badge.svg\" alt=\"Open In Colab\"/></a>"
      ]
    },
    {
      "cell_type": "markdown",
      "source": [
        "# 📘 Chapter 8: Lists - Exercises\n",
        "\n",
        "This notebook contains the solutions to the exercises from Chapter 8 of *Python for Everybody* by Charles Severance."
      ],
      "metadata": {
        "id": "sS9GX474Q6-b"
      }
    },
    {
      "cell_type": "markdown",
      "source": [
        "## 🧠 Exercise 1\n",
        "### Write a function called `chop` that takes a list and modifies it, removing the first and last elements, and returns `None`. Then write a function called `middle` that takes a list and returns a new list that contains all but the first and last elements.\n",
        "\n",
        "✅ Answer:"
      ],
      "metadata": {
        "id": "ZZGfVXN_RAuW"
      }
    },
    {
      "cell_type": "code",
      "source": [
        "def chop(t):\n",
        "    del t[0]\n",
        "    del t[-1]\n",
        "    return None\n",
        "\n",
        "def middle(t):\n",
        "    return t[1:-1]"
      ],
      "metadata": {
        "id": "m4t8uvsNVPB4"
      },
      "execution_count": null,
      "outputs": []
    },
    {
      "cell_type": "markdown",
      "source": [
        "💡 Explanation:\n",
        "\n",
        "This exercise asked me to define two functions that manipulate lists:\n",
        "\n",
        "- The first function, `chop`, removes the first and last elements from the original list. Since the goal was to modify the list in place, I used the `del` statement with index `0` to remove the first element and index `-1` to remove the last. The function returns `None`, as specified.\n",
        "\n",
        "- The second function, `middle`, returns a new list containing all the elements except the first and last. I used slicing `t[1:-1]` to create this new list. This slicing notation is a very efficient way to extract sublists in Python.\n",
        "\n",
        "These two functions helped me practice the difference between modifying a list in place and creating a new one, as well as working with list indices and slicing."
      ],
      "metadata": {
        "id": "-MoqooVQXBmq"
      }
    },
    {
      "cell_type": "markdown",
      "source": [
        "## 🧠 Exercise 2\n",
        "```\n",
        "fhand = open('mbox-short.txt')\n",
        "count = 0\n",
        "for line in fhand:\n",
        "    words = line.split()\n",
        "    # print('Debug:', words)\n",
        "    if len(words) == 0 : continue\n",
        "    if words[0] != 'From' : continue\n",
        "    print(words[2])\n",
        "```\n",
        "### Figure out which line of the above program is still not properly guarded. See if you can construct a text file which causes the program to fail and then modify the program so that the line is properly guarded and test it to make sure it handles your new text file.\n",
        "\n",
        "✅ Answer:\n",
        "\n",
        "We still need to guard against lines with fewer than 3 words to avoid an `IndexError` when accessing `words[2]`. Hence:"
      ],
      "metadata": {
        "id": "rqDUcD_lXYS4"
      }
    },
    {
      "cell_type": "code",
      "source": [
        "fhand = open('mbox-short.txt')\n",
        "count = 0\n",
        "for line in fhand:\n",
        "    words = line.split()\n",
        "    # print('Debug:', words)\n",
        "    if len(words) < 3 : continue\n",
        "    if words[0] != 'From' : continue\n",
        "    print(words[2])"
      ],
      "metadata": {
        "id": "0-AeUseGa5rv"
      },
      "execution_count": null,
      "outputs": []
    },
    {
      "cell_type": "markdown",
      "source": [
        "💡 Explanation:\n",
        "\n",
        "I added a check for `len(words) < 3` (which already covers `len(words) == 0`) before trying to access that element. This way, the program safely skips over any short or malformed lines that would otherwise cause a crash."
      ],
      "metadata": {
        "id": "1pG-G0Cabyan"
      }
    },
    {
      "cell_type": "markdown",
      "source": [
        "## 🧠 Exercise 3\n",
        "### Rewrite the guardian code in the above example without two if statements. Instead, use a compound logical expression using the or logical operator with a single if statement.\n",
        "\n",
        "✅ Answer:"
      ],
      "metadata": {
        "id": "npKZNhQMckKZ"
      }
    },
    {
      "cell_type": "code",
      "source": [
        "fhand = open('mbox-short.txt')\n",
        "count = 0\n",
        "for line in fhand:\n",
        "    words = line.split()\n",
        "    # print('Debug:', words)\n",
        "    if len(words) < 3 or words[0] != 'From' : continue\n",
        "    print(words[2])"
      ],
      "metadata": {
        "id": "JqpvKbSIc2RY"
      },
      "execution_count": null,
      "outputs": []
    },
    {
      "cell_type": "markdown",
      "source": [
        "💡 Explanation:\n",
        "\n",
        "Instead of using two separate `if` statements to skip lines — one for checking if the list is too short and another for checking if the first word is 'From' — I combined both conditions into a single `if` using the `or` logical operator.\n",
        "This way, the program continues to the next line if **either** the line has fewer than 3 words **or** the first word is not 'From'."
      ],
      "metadata": {
        "id": "lALZpjvVdCHZ"
      }
    },
    {
      "cell_type": "markdown",
      "source": [
        "## 🧠 Exercise 4\n",
        "### Download a copy of the file www.py4e.com/code3/romeo.txt. Write a program to open the file romeo.txt and read it line by line. For each line, split the line into a list of words using the split function. For each word, check to see if the word is already in a list. If the word is not in the list, add it to the list. When the program completes, sort and print the resulting words in alphabetical order.\n",
        "```\n",
        "Enter file: romeo.txt\n",
        "['Arise', 'But', 'It', 'Juliet', 'Who', 'already',\n",
        "'and', 'breaks', 'east', 'envious', 'fair', 'grief',\n",
        "'is', 'kill', 'light', 'moon', 'pale', 'sick', 'soft',\n",
        "'sun', 'the', 'through', 'what', 'window',\n",
        "'with', 'yonder']\n",
        "```\n",
        "\n",
        "✅ Answer:"
      ],
      "metadata": {
        "id": "0Kxf-FhNdkfr"
      }
    },
    {
      "cell_type": "code",
      "source": [
        "fhand = open('/content/drive/My Drive/python-for-everybody/data/romeo.txt', 'r')\n",
        "\n",
        "words_list = []\n",
        "\n",
        "for line in fhand:\n",
        "    words = line.split()\n",
        "    for word in words:\n",
        "        if word in words_list: continue\n",
        "        words_list.append(word)\n",
        "\n",
        "print(sorted(words_list))"
      ],
      "metadata": {
        "colab": {
          "base_uri": "https://localhost:8080/"
        },
        "id": "Rp1EHG_NejlP",
        "outputId": "91c55aa2-234b-4f4f-e63c-f783b19a6861"
      },
      "execution_count": 2,
      "outputs": [
        {
          "output_type": "stream",
          "name": "stdout",
          "text": [
            "['Arise', 'But', 'It', 'Juliet', 'Who', 'already', 'and', 'breaks', 'east', 'envious', 'fair', 'grief', 'is', 'kill', 'light', 'moon', 'pale', 'sick', 'soft', 'sun', 'the', 'through', 'what', 'window', 'with', 'yonder']\n"
          ]
        }
      ]
    },
    {
      "cell_type": "markdown",
      "source": [
        "💡 Explanation:\n",
        "\n",
        "Once the file `romeo.txt`is open in read mode, an empty list `words_list`is initialized in order to store all the unique words found in the file. Next, the program processes the file line by line using a `for` loop. For each line, the `split()` method is used to break the line into individual words. The program then iterates over each word. If the word is already in `words_list`, it skips it using the `continue` statement. Otherwise, the word is added to the list with the `append()` method. This ensures that only unique words are collected.\n",
        "\n",
        "After reading the entire file, the list `words_list` contains all the distinct words from the text. Finally, the list is sorted alphabetically using the `sorted()` function and printed."
      ],
      "metadata": {
        "id": "ROiK4xzeg-CM"
      }
    },
    {
      "cell_type": "markdown",
      "source": [
        "## 🧠 Exercise 5\n",
        "### Write a program to read through the mail box data and when you find line that starts with “From”, you will split the line into words using the split function. We are interested in who sent the message, which is the second word on the From line.\n",
        "```\n",
        "From stephen.marquard@uct.ac.za Sat Jan 5 09:14:16 2008\n",
        "```\n",
        "### You will parse the From line and print out the second word for each From line, then you will also count the number of From (not From:) lines and print out a count at the end. This is a good sample output with a few lines removed:\n",
        "```\n",
        "python fromcount.py\n",
        "Enter a file name: mbox-short.txt\n",
        "stephen.marquard@uct.ac.za\n",
        "louis@media.berkeley.edu\n",
        "zqian@umich.edu\n",
        "\n",
        "[...some output removed...]\n",
        "\n",
        "ray@media.berkeley.edu\n",
        "cwen@iupui.edu\n",
        "cwen@iupui.edu\n",
        "cwen@iupui.edu\n",
        "There were 27 lines in the file with From as the first word\n",
        "```\n",
        "\n",
        "✅ Answer:"
      ],
      "metadata": {
        "id": "xy22pkJOhruf"
      }
    },
    {
      "cell_type": "code",
      "source": [
        "fhand = open('/content/drive/My Drive/python-for-everybody/data/mbox-short.txt', 'r')\n",
        "\n",
        "count = 0\n",
        "\n",
        "for line in fhand:\n",
        "    words = line.split()\n",
        "    if len(words) < 3 or words[0] != 'From':\n",
        "        continue\n",
        "    print(words[1])\n",
        "    count = count + 1\n",
        "\n",
        "print(f\"There were {count} lines in the file with 'From' as the first word\")"
      ],
      "metadata": {
        "colab": {
          "base_uri": "https://localhost:8080/"
        },
        "id": "zuY9EMP3iZb6",
        "outputId": "b011f7f4-5a62-4df6-e71d-e69c4cbe17e7"
      },
      "execution_count": 4,
      "outputs": [
        {
          "output_type": "stream",
          "name": "stdout",
          "text": [
            "stephen.marquard@uct.ac.za\n",
            "louis@media.berkeley.edu\n",
            "zqian@umich.edu\n",
            "rjlowe@iupui.edu\n",
            "zqian@umich.edu\n",
            "rjlowe@iupui.edu\n",
            "cwen@iupui.edu\n",
            "cwen@iupui.edu\n",
            "gsilver@umich.edu\n",
            "gsilver@umich.edu\n",
            "zqian@umich.edu\n",
            "gsilver@umich.edu\n",
            "wagnermr@iupui.edu\n",
            "zqian@umich.edu\n",
            "antranig@caret.cam.ac.uk\n",
            "gopal.ramasammycook@gmail.com\n",
            "david.horwitz@uct.ac.za\n",
            "david.horwitz@uct.ac.za\n",
            "david.horwitz@uct.ac.za\n",
            "david.horwitz@uct.ac.za\n",
            "stephen.marquard@uct.ac.za\n",
            "louis@media.berkeley.edu\n",
            "louis@media.berkeley.edu\n",
            "ray@media.berkeley.edu\n",
            "cwen@iupui.edu\n",
            "cwen@iupui.edu\n",
            "cwen@iupui.edu\n",
            "There were 27 lines in the file with 'From' as the first word\n"
          ]
        }
      ]
    },
    {
      "cell_type": "markdown",
      "source": [
        "💡 Explanation:\n",
        "\n",
        "This program reads a mailbox file line by line, looks for lines that start with \"From\", and prints the sender's email address (the second word). It uses a single conditional to filter relevant lines and avoids errors by checking the line has enough words. It also counts how many such lines appear and prints the total at the end."
      ],
      "metadata": {
        "id": "RtcyjI9ljKjJ"
      }
    },
    {
      "cell_type": "markdown",
      "source": [
        "## 🧠 Exercise 6\n",
        "### Rewrite the program that prompts the user for a list of numbers and prints out the maximum and minimum of the numbers at the end when the user enters “done”. Write the program to store the numbers the user enters in a list and use the `max()` and `min()` functions to compute the maximum and minimum numbers after the loop completes.\n",
        "```\n",
        "Enter a number: 6\n",
        "Enter a number: 2\n",
        "Enter a number: 9\n",
        "Enter a number: 3\n",
        "Enter a number: 5\n",
        "Enter a number: done\n",
        "Maximum: 9.0\n",
        "Minimum: 2.0\n",
        "```\n",
        "\n",
        "✅ Answer:"
      ],
      "metadata": {
        "id": "b6YfMwqEjPjN"
      }
    },
    {
      "cell_type": "code",
      "source": [
        "user_list = []\n",
        "\n",
        "while True:\n",
        "    try:\n",
        "        user_number = input('Enter a number: ')\n",
        "        if user_number == 'done':\n",
        "            break\n",
        "        else:\n",
        "            number = float(user_number)\n",
        "            user_list.append(number)\n",
        "    except:\n",
        "        print('Invalid input')\n",
        "\n",
        "print(f'The maximum number of the list is {max(user_list)} while the minimum is {min(user_list)}.')"
      ],
      "metadata": {
        "colab": {
          "base_uri": "https://localhost:8080/"
        },
        "id": "K8M0UjnXmPPI",
        "outputId": "ac80a420-ce5d-4303-a031-980b9074202e"
      },
      "execution_count": 5,
      "outputs": [
        {
          "output_type": "stream",
          "name": "stdout",
          "text": [
            "Enter a number: 6\n",
            "Enter a number: 2\n",
            "Enter a number: 9\n",
            "Enter a number: 3\n",
            "Enter a number: 5\n",
            "Enter a number: done\n",
            "The maximum number of the list is 9.0 while the minimum is 2.0.\n"
          ]
        }
      ]
    },
    {
      "cell_type": "markdown",
      "source": [
        "💡 Explanation:\n",
        "\n",
        "This program extends the pattern of collecting user input by storing all valid numerical entries in a list. It uses a `while` loop with `try`/`except` to handle invalid input and ensure only valid floats are appended to the `user_list`. Once the user types `\"done\"`, the loop ends, and the built-in `max()` and `min()` functions are used to compute and display the largest and smallest values from the list. This approach simplifies the logic compared to manually tracking extrema during iteration and demonstrates how lists and built-in functions can streamline data processing tasks."
      ],
      "metadata": {
        "id": "JdGKbTfZm01u"
      }
    },
    {
      "cell_type": "markdown",
      "source": [
        "# 📚 Summary – What I Learned from These Exercises\n",
        "\n",
        "In this chapter, I worked with Python lists in more depth, exploring how to create, modify, and process them. I implemented custom functions like `chop()` and `middle()` to practice list slicing and mutation. I also reinforced the importance of guarding against runtime errors when working with file input and user data, including refining conditional logic with compound expressions.\n",
        "\n",
        "These exercises highlighted how lists are powerful tools for storing and organizing data dynamically. I used methods like `append()`, `sort()`, and built-in functions like `max()` and `min()` to efficiently analyze and extract information from lists. Overall, this chapter deepened my understanding of iteration, conditionals, and how to structure programs that manipulate collections of data in practical ways."
      ],
      "metadata": {
        "id": "P_uR4EFonK1e"
      }
    }
  ]
}